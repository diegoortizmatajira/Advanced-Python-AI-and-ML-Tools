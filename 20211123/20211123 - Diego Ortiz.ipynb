{
 "cells": [
  {
   "cell_type": "markdown",
   "id": "ad977863-45b3-495b-80db-a158e102fe5b",
   "metadata": {},
   "source": [
    "Write a Python program to find the smallest positive number that is evenly divisible by all of the numbers\n",
    "from 1 to 30.\n",
    "\n",
    "2520 is the smallest number that can be divided by each of the numbers from 1 to 10 without any remainder.\n",
    "\n",
    "Result: 2329089562800 0\n",
    "Due: 6:20 am\n"
   ]
  },
  {
   "cell_type": "code",
   "execution_count": 45,
   "id": "24bbfe93-f6c6-4b1d-bb2f-74955b7dfe6e",
   "metadata": {},
   "outputs": [],
   "source": [
    "import numpy as np\n",
    "\n",
    "def smallest_number(n):\n",
    "    multiplication = 1\n",
    "    for i in range(2, n+1):\n",
    "        multiplication = multiplication * i\n",
    "        divisible = True\n",
    "        for j in range(2, n+1):\n",
    "            # print(f'testing {multiplication}/{j} = {multiplication/j}')\n",
    "            if (multiplication % j != 0):\n",
    "                divisible = False\n",
    "                break\n",
    "        if divisible:\n",
    "            return multiplication\n",
    "    return None\n",
    "  "
   ]
  },
  {
   "cell_type": "code",
   "execution_count": 46,
   "id": "f398d75d-f6d1-43fb-80e3-3b678f6032ac",
   "metadata": {},
   "outputs": [
    {
     "data": {
      "text/plain": [
       "5040"
      ]
     },
     "execution_count": 46,
     "metadata": {},
     "output_type": "execute_result"
    }
   ],
   "source": [
    "smallest_number(10)"
   ]
  },
  {
   "cell_type": "code",
   "execution_count": 47,
   "id": "fa0eaf62-3db3-4f9f-8451-4ea43ebe4b15",
   "metadata": {},
   "outputs": [
    {
     "data": {
      "text/plain": [
       "8841761993739701954543616000000"
      ]
     },
     "execution_count": 47,
     "metadata": {},
     "output_type": "execute_result"
    }
   ],
   "source": [
    "smallest_number(30)"
   ]
  },
  {
   "cell_type": "code",
   "execution_count": null,
   "id": "13f4d26d-bb52-4fea-af15-b0d7261917fb",
   "metadata": {},
   "outputs": [],
   "source": []
  }
 ],
 "metadata": {
  "kernelspec": {
   "display_name": "Python 3 (ipykernel)",
   "language": "python",
   "name": "python3"
  },
  "language_info": {
   "codemirror_mode": {
    "name": "ipython",
    "version": 3
   },
   "file_extension": ".py",
   "mimetype": "text/x-python",
   "name": "python",
   "nbconvert_exporter": "python",
   "pygments_lexer": "ipython3",
   "version": "3.8.12"
  }
 },
 "nbformat": 4,
 "nbformat_minor": 5
}
