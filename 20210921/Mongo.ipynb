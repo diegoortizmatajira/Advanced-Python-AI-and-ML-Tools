{
 "cells": [
  {
   "cell_type": "code",
   "execution_count": 1,
   "id": "d674a85d-b120-4234-8df7-ff368fa7f6e7",
   "metadata": {},
   "outputs": [],
   "source": [
    "from pymongo import MongoClient"
   ]
  },
  {
   "cell_type": "code",
   "execution_count": 2,
   "id": "605af9ef-845c-4047-80b2-d9598a11fc6c",
   "metadata": {},
   "outputs": [],
   "source": [
    "client = MongoClient()\n",
    "db = client.test"
   ]
  },
  {
   "cell_type": "code",
   "execution_count": 3,
   "id": "eb981c4a-b11f-4d91-8113-d684a621150a",
   "metadata": {},
   "outputs": [],
   "source": [
    "employee = db.employee"
   ]
  },
  {
   "cell_type": "code",
   "execution_count": 4,
   "id": "26630fe4-8c03-4b1e-9b59-ae3702b4b597",
   "metadata": {},
   "outputs": [
    {
     "data": {
      "text/plain": [
       "Collection(Database(MongoClient(host=['localhost:27017'], document_class=dict, tz_aware=False, connect=True), 'test'), 'employee')"
      ]
     },
     "execution_count": 4,
     "metadata": {},
     "output_type": "execute_result"
    }
   ],
   "source": [
    "employee"
   ]
  },
  {
   "cell_type": "code",
   "execution_count": 14,
   "id": "647defcf-9c37-4c8e-ac93-059a3eeb70c3",
   "metadata": {},
   "outputs": [],
   "source": [
    "employee_details = {\n",
    "    'Name': 'Diego Ortiz',\n",
    "    'Address': 'Bogota',\n",
    "    'Age': '39'\n",
    "}\n",
    "result = employee.insert_one(employee_details)"
   ]
  },
  {
   "cell_type": "code",
   "execution_count": 15,
   "id": "3a1b1400-1fba-4084-ab61-541d8ed10a23",
   "metadata": {},
   "outputs": [
    {
     "data": {
      "text/plain": [
       "{'_id': ObjectId('6149bebf0e5db463adc82fc6'),\n",
       " 'Name': 'Diego Ortiz',\n",
       " 'Address': 'Bogota',\n",
       " 'Age': '39'}"
      ]
     },
     "execution_count": 15,
     "metadata": {},
     "output_type": "execute_result"
    }
   ],
   "source": [
    "db.employee.find_one({'Age':'39'})"
   ]
  },
  {
   "cell_type": "markdown",
   "id": "8012bd1c-c130-4cc7-be25-28ca8560e96c",
   "metadata": {},
   "source": [
    "## Update"
   ]
  },
  {
   "cell_type": "code",
   "execution_count": 17,
   "id": "51ee65b8-4b42-405d-bda1-70dded4746ad",
   "metadata": {},
   "outputs": [
    {
     "data": {
      "text/plain": [
       "<pymongo.results.UpdateResult at 0x2235e02cb40>"
      ]
     },
     "execution_count": 17,
     "metadata": {},
     "output_type": "execute_result"
    }
   ],
   "source": [
    "db.employee.update_one(\n",
    "    {'Age':'39'},\n",
    "    {\n",
    "        \"$set\": {\n",
    "            'Name': 'Diego Ortiz',\n",
    "            'Address': 'Bogota',\n",
    "            'Age': '40'       \n",
    "        }\n",
    "    }\n",
    ")"
   ]
  },
  {
   "cell_type": "code",
   "execution_count": 18,
   "id": "3c8e2093-0c18-4e24-af1d-56ffbbd932f9",
   "metadata": {},
   "outputs": [
    {
     "data": {
      "text/plain": [
       "{'_id': ObjectId('6149bebf0e5db463adc82fc6'),\n",
       " 'Name': 'Diego Ortiz',\n",
       " 'Address': 'Bogota',\n",
       " 'Age': '40'}"
      ]
     },
     "execution_count": 18,
     "metadata": {},
     "output_type": "execute_result"
    }
   ],
   "source": [
    "db.employee.find_one({'Age':'40'})"
   ]
  },
  {
   "cell_type": "markdown",
   "id": "c8eab513-0313-4d6b-8cfc-84f1fd73c60f",
   "metadata": {},
   "source": [
    "# Delete"
   ]
  },
  {
   "cell_type": "code",
   "execution_count": 12,
   "id": "0c842fe3-48da-4aad-93f1-cf01ca2ed0a3",
   "metadata": {},
   "outputs": [
    {
     "data": {
      "text/plain": [
       "<pymongo.results.DeleteResult at 0x2235dfff4c0>"
      ]
     },
     "execution_count": 12,
     "metadata": {},
     "output_type": "execute_result"
    }
   ],
   "source": [
    "db.employee.delete_one({'Age':'40'})"
   ]
  },
  {
   "cell_type": "code",
   "execution_count": null,
   "id": "5fd3809f-9c72-45f7-806d-e54cb255a460",
   "metadata": {},
   "outputs": [],
   "source": []
  },
  {
   "cell_type": "code",
   "execution_count": null,
   "id": "0d4fd2e1-ecc5-40d4-8a04-33030f871abd",
   "metadata": {},
   "outputs": [],
   "source": []
  }
 ],
 "metadata": {
  "kernelspec": {
   "display_name": "Python 3",
   "language": "python",
   "name": "python3"
  },
  "language_info": {
   "codemirror_mode": {
    "name": "ipython",
    "version": 3
   },
   "file_extension": ".py",
   "mimetype": "text/x-python",
   "name": "python",
   "nbconvert_exporter": "python",
   "pygments_lexer": "ipython3",
   "version": "3.8.10"
  }
 },
 "nbformat": 4,
 "nbformat_minor": 5
}
