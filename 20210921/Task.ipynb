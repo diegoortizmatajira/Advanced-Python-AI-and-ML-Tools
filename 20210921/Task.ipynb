{
 "cells": [
  {
   "cell_type": "markdown",
   "id": "9e62aef2-953b-42d0-965b-268984914a9f",
   "metadata": {},
   "source": [
    "# Diego Ortiz - c0816681"
   ]
  },
  {
   "cell_type": "markdown",
   "id": "a7472e4b-7e72-4be3-8bc7-b0043f754184",
   "metadata": {},
   "source": [
    "## Part 1"
   ]
  },
  {
   "cell_type": "code",
   "execution_count": 5,
   "id": "3d1fff7f-6dd2-43ac-af59-fa5e69689dec",
   "metadata": {},
   "outputs": [],
   "source": [
    "def find_triplets(input):\n",
    "    result = []\n",
    "    l = len(input)\n",
    "    for i in range(l):\n",
    "        for j in range(i+1,l):\n",
    "            for k in range(j+1,l):\n",
    "                candidate_sum = input[i]+input[j]+input[k]\n",
    "                if candidate_sum == 0:\n",
    "                    result.append([input[i],input[j],input[k]])\n",
    "    return result"
   ]
  },
  {
   "cell_type": "code",
   "execution_count": 6,
   "id": "369c9001-34c0-410d-bc9c-d07ce1f51be3",
   "metadata": {},
   "outputs": [
    {
     "data": {
      "text/plain": [
       "[[-1, 0, 1], [-1, 2, -1], [0, 1, -1]]"
      ]
     },
     "execution_count": 6,
     "metadata": {},
     "output_type": "execute_result"
    }
   ],
   "source": [
    "input = [-1,0,1,2,-1,-4]\n",
    "output = find_triplets(input)\n",
    "output"
   ]
  },
  {
   "cell_type": "markdown",
   "id": "90f62ea1-7040-401e-8143-b9aac3d17b95",
   "metadata": {},
   "source": [
    "## Part 2"
   ]
  },
  {
   "cell_type": "code",
   "execution_count": 7,
   "id": "35cc95f6-ca0e-49d1-8f82-f2031961659f",
   "metadata": {},
   "outputs": [],
   "source": [
    "def find_cuartet_sum(input, expected_sum):\n",
    "    result = []\n",
    "    l = len(input)\n",
    "    for i in range(l):\n",
    "        for j in range(i+1,l):\n",
    "            for k in range(j+1,l):\n",
    "                for m in range(k+1,l):\n",
    "                    candidate_sum = input[i]+input[j]+input[k]+input[m]\n",
    "                    if candidate_sum == expected_sum:\n",
    "                        result.append([input[i],input[j],input[k],input[m]])\n",
    "    return result"
   ]
  },
  {
   "cell_type": "code",
   "execution_count": 8,
   "id": "947b2e85-c572-4a59-841a-5e1772825a77",
   "metadata": {},
   "outputs": [
    {
     "data": {
      "text/plain": [
       "[[1, 0, -1, 0], [1, -1, -2, 2], [0, 0, -2, 2]]"
      ]
     },
     "execution_count": 8,
     "metadata": {},
     "output_type": "execute_result"
    }
   ],
   "source": [
    "input = [1,0,-1,0,-2,2]\n",
    "output = find_cuartet_sum(input, 0)\n",
    "output"
   ]
  },
  {
   "cell_type": "markdown",
   "id": "47c89971-bb1e-4a18-9902-a597522abc83",
   "metadata": {},
   "source": [
    "## Going further obtaining n values that sum the expected value"
   ]
  },
  {
   "cell_type": "code",
   "execution_count": 14,
   "id": "2da7f8fb-586f-47b9-a271-14ca40f15f8d",
   "metadata": {},
   "outputs": [],
   "source": [
    "def recursive(input, n, expected_sum, candidate_indexes, position, result):\n",
    "    if position >= n:\n",
    "        candidate = [input[candidate_indexes[j]] for j in range(n)]\n",
    "        if sum(candidate) == expected_sum:\n",
    "            result.append(candidate)\n",
    "    else:\n",
    "        initial = 0 if position == 0 else (candidate_indexes[position - 1] + 1)\n",
    "        for i in range(initial, len(input)):\n",
    "            candidate_indexes[position] = i\n",
    "            recursive(input, n, expected_sum, candidate_indexes, position + 1, result)\n",
    "    \n",
    "def find_n_sum(input, n, expected_sum):\n",
    "    result = []\n",
    "    recursive(input, n, expected_sum, [0] * n, 0, result)\n",
    "    return result\n",
    "           \n",
    "    "
   ]
  },
  {
   "cell_type": "code",
   "execution_count": 15,
   "id": "b47ce5ec-9279-46ac-8987-8f86abb24f7f",
   "metadata": {},
   "outputs": [
    {
     "data": {
      "text/plain": [
       "[[1, 0, -1, 0], [1, -1, -2, 2], [0, 0, -2, 2]]"
      ]
     },
     "execution_count": 15,
     "metadata": {},
     "output_type": "execute_result"
    }
   ],
   "source": [
    "input = [1,0,-1,0,-2,2]\n",
    "output = find_n_sum(input, 4, 0)\n",
    "output"
   ]
  },
  {
   "cell_type": "code",
   "execution_count": null,
   "id": "1de086c7-1d6d-4f5a-b78c-1f96c10ba093",
   "metadata": {},
   "outputs": [],
   "source": []
  },
  {
   "cell_type": "code",
   "execution_count": null,
   "id": "b5d27d59-84a5-4575-ad56-2d2151562264",
   "metadata": {},
   "outputs": [],
   "source": []
  }
 ],
 "metadata": {
  "kernelspec": {
   "display_name": "Python 3",
   "language": "python",
   "name": "python3"
  },
  "language_info": {
   "codemirror_mode": {
    "name": "ipython",
    "version": 3
   },
   "file_extension": ".py",
   "mimetype": "text/x-python",
   "name": "python",
   "nbconvert_exporter": "python",
   "pygments_lexer": "ipython3",
   "version": "3.8.10"
  }
 },
 "nbformat": 4,
 "nbformat_minor": 5
}
