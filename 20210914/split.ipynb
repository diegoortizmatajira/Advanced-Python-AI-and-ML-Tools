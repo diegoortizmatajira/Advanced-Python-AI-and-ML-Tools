{
 "cells": [
  {
   "cell_type": "markdown",
   "id": "dbae5ee1-85bc-47ab-8a2f-12dea4f48f92",
   "metadata": {},
   "source": [
    "# Function to get the list and the tuple"
   ]
  },
  {
   "cell_type": "code",
   "execution_count": 5,
   "id": "9cd9e26a-8d23-43a3-b934-c171025bbdd8",
   "metadata": {},
   "outputs": [],
   "source": [
    "def get_list_and_tuple(s):\n",
    "    mapped = map(int, s.split(','))\n",
    "    int_list = list(mapped)\n",
    "    int_tuple = tuple(int_list)\n",
    "    return int_list, int_tuple"
   ]
  },
  {
   "cell_type": "markdown",
   "id": "2313e8d3-1e02-4518-8377-ee9c852dda74",
   "metadata": {},
   "source": [
    "# Unit test"
   ]
  },
  {
   "cell_type": "code",
   "execution_count": 6,
   "id": "0c2787a3-4adc-4e42-8ae7-8107f2758761",
   "metadata": {},
   "outputs": [
    {
     "name": "stdout",
     "output_type": "stream",
     "text": [
      "[3, 5, 7, 23] <class 'list'>\n",
      "(3, 5, 7, 23) <class 'tuple'>\n"
     ]
    }
   ],
   "source": [
    "sample = '3,5,7,23'\n",
    "l,t = get_list_and_tuple(sample)\n",
    "print(l, type(l))\n",
    "print(t, type(t))"
   ]
  },
  {
   "cell_type": "markdown",
   "id": "a5045555-5b86-4ce0-a714-82c82454e980",
   "metadata": {},
   "source": [
    "# Actual program"
   ]
  },
  {
   "cell_type": "code",
   "execution_count": 10,
   "id": "45ee5dde-3caf-4a58-9716-cbb625af004c",
   "metadata": {},
   "outputs": [
    {
     "name": "stdin",
     "output_type": "stream",
     "text": [
      "Please enter a comma separated list of numbers, empty to exit\n",
      " \n"
     ]
    }
   ],
   "source": [
    "while True:\n",
    "    user_input = input('Please enter a comma separated list of numbers, empty to exit\\n')\n",
    "    if user_input == '':\n",
    "        break\n",
    "    li, ti = get_list_and_tuple(user_input)\n",
    "    print(li, type(li))\n",
    "    print(ti, type(ti))"
   ]
  },
  {
   "cell_type": "code",
   "execution_count": null,
   "id": "97c89f08-453a-4798-925b-c62ff88c2acb",
   "metadata": {},
   "outputs": [],
   "source": []
  }
 ],
 "metadata": {
  "kernelspec": {
   "display_name": "Python 3",
   "language": "python",
   "name": "python3"
  },
  "language_info": {
   "codemirror_mode": {
    "name": "ipython",
    "version": 3
   },
   "file_extension": ".py",
   "mimetype": "text/x-python",
   "name": "python",
   "nbconvert_exporter": "python",
   "pygments_lexer": "ipython3",
   "version": "3.8.10"
  }
 },
 "nbformat": 4,
 "nbformat_minor": 5
}
