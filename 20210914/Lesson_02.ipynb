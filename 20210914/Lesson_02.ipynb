{
 "cells": [
  {
   "cell_type": "markdown",
   "id": "1505ebfa-7dfb-4d4b-a32e-9b18707a92bc",
   "metadata": {},
   "source": [
    "# Database and Python interaction"
   ]
  },
  {
   "cell_type": "code",
   "execution_count": 3,
   "id": "64c30b85-f0ef-446e-8d72-694f6ec8f9d3",
   "metadata": {},
   "outputs": [
    {
     "name": "stdout",
     "output_type": "stream",
     "text": [
      "Collecting sqlalchemy\n",
      "  Downloading SQLAlchemy-1.4.23-cp38-cp38-win_amd64.whl (1.5 MB)\n",
      "Collecting greenlet!=0.4.17\n",
      "  Downloading greenlet-1.1.1-cp38-cp38-win_amd64.whl (96 kB)\n",
      "Installing collected packages: greenlet, sqlalchemy\n",
      "Successfully installed greenlet-1.1.1 sqlalchemy-1.4.23\n",
      "Note: you may need to restart the kernel to use updated packages.\n"
     ]
    }
   ],
   "source": [
    "pip install sqlalchemy"
   ]
  },
  {
   "cell_type": "code",
   "execution_count": 6,
   "id": "73002854-a5b2-4383-8f8c-a0b6348a6b15",
   "metadata": {},
   "outputs": [],
   "source": [
    "from sqlalchemy import create_engine\n",
    "import pandas as pd"
   ]
  },
  {
   "cell_type": "code",
   "execution_count": 7,
   "id": "7d88374c-0141-4787-bccd-1bb1625b3a44",
   "metadata": {},
   "outputs": [],
   "source": [
    "database_connection = create_engine('sqlite:///sample.db')"
   ]
  },
  {
   "cell_type": "markdown",
   "id": "82e9c7e1-f91a-4129-be8d-b648105358bb",
   "metadata": {},
   "source": [
    "Sample"
   ]
  },
  {
   "cell_type": "code",
   "execution_count": 11,
   "id": "a5cd0480-dbab-48c0-97b2-0d8780273e71",
   "metadata": {},
   "outputs": [],
   "source": [
    "dataframe = pd.read_sql_query('SELECT * FROM data', database_connection)"
   ]
  },
  {
   "cell_type": "markdown",
   "id": "56186de9-6fe2-48e2-8e3b-ab147242072a",
   "metadata": {},
   "source": [
    "## Using SQLite 3"
   ]
  },
  {
   "cell_type": "code",
   "execution_count": 10,
   "id": "87320566-0e12-4e7a-92fd-ab54d1d654cb",
   "metadata": {},
   "outputs": [],
   "source": [
    "import sqlite3\n",
    "conn = sqlite3.connect('example.db')\n",
    "cursor = conn.cursor()"
   ]
  },
  {
   "cell_type": "code",
   "execution_count": 12,
   "id": "68ea913b-1226-411b-b9b9-31d3fd0825c4",
   "metadata": {},
   "outputs": [],
   "source": [
    "sql = '''CREATE TABLE EMPLOYEE(\n",
    "    FIRST_NAME CHAR(20) NOT NULL,\n",
    "    LAST_NAME CHAR(20),\n",
    "    AGE INT,\n",
    "    SEX CHAR(1),\n",
    "    INCOME FLOAT\n",
    ")'''\n",
    "cursor.execute(sql)\n",
    "conn.commit()"
   ]
  },
  {
   "cell_type": "code",
   "execution_count": 23,
   "id": "8a6e3e7f-3a9e-4a49-b1cc-a599aa1495d7",
   "metadata": {},
   "outputs": [
    {
     "data": {
      "text/plain": [
       "<sqlite3.Cursor at 0x2936b15db20>"
      ]
     },
     "execution_count": 23,
     "metadata": {},
     "output_type": "execute_result"
    }
   ],
   "source": [
    "cursor.execute('''INSERT INTO EMPLOYEE(FIRST_NAME,LAST_NAME,AGE,SEX,INCOME) VALUES ('Diego', 'Ortiz', 39, 'M', 10500000)''')\n",
    "cursor.execute('''INSERT INTO EMPLOYEE(FIRST_NAME,LAST_NAME,AGE,SEX,INCOME) VALUES ('Julio', 'Ortiz', 32, 'M', 5500000)''')\n",
    "cursor.execute('''INSERT INTO EMPLOYEE(FIRST_NAME,LAST_NAME,AGE,SEX,INCOME) VALUES ('Martha', 'Matajira', 65, 'F', 2500000)''')\n",
    "cursor.execute('''INSERT INTO EMPLOYEE(FIRST_NAME,LAST_NAME,AGE,SEX,INCOME) VALUES ('Lorena', 'Diaz', 37, 'F', 6500000)''')\n",
    "conn.commit()"
   ]
  },
  {
   "cell_type": "code",
   "execution_count": 36,
   "id": "889ce39e-95bf-4d8a-b44e-73a647f30e05",
   "metadata": {},
   "outputs": [],
   "source": [
    "cursor.execute('''SELECT * FROM EMPLOYEE''')\n",
    "result = cursor.fetchall()"
   ]
  },
  {
   "cell_type": "code",
   "execution_count": 37,
   "id": "03360727-36e5-49d5-a061-080082a28262",
   "metadata": {},
   "outputs": [
    {
     "data": {
      "text/plain": [
       "[('Diego', 'Ortiz', 39, 'M', 10500000.0),\n",
       " ('Julio', 'Ortiz', 32, 'M', 5500000.0),\n",
       " ('Martha', 'Matajira', 65, 'F', 2500000.0),\n",
       " ('Lorena', 'Diaz', 37, 'F', 6500000.0)]"
      ]
     },
     "execution_count": 37,
     "metadata": {},
     "output_type": "execute_result"
    }
   ],
   "source": [
    "result"
   ]
  },
  {
   "cell_type": "code",
   "execution_count": 41,
   "id": "a576fc0b-2235-4e22-83ff-22f9ab145794",
   "metadata": {},
   "outputs": [],
   "source": [
    "cursor.execute('''SELECT * FROM EMPLOYEE''')\n",
    "result = cursor.fetchone()"
   ]
  },
  {
   "cell_type": "code",
   "execution_count": 42,
   "id": "a6297391-9aa7-4e0e-8dd4-16bfa4e4bcb5",
   "metadata": {},
   "outputs": [
    {
     "data": {
      "text/plain": [
       "('Diego', 'Ortiz', 39, 'M', 10500000.0)"
      ]
     },
     "execution_count": 42,
     "metadata": {},
     "output_type": "execute_result"
    }
   ],
   "source": [
    "result"
   ]
  },
  {
   "cell_type": "code",
   "execution_count": 43,
   "id": "37c99cf5-ffa1-45e4-bfed-94201f08e733",
   "metadata": {},
   "outputs": [],
   "source": [
    "cursor.execute('''INSERT INTO EMPLOYEE(FIRST_NAME,LAST_NAME,AGE,SEX,INCOME) VALUES ('Gladys', 'Escobar', 66, 'F', 2500000)''')\n",
    "cursor.execute('''INSERT INTO EMPLOYEE(FIRST_NAME,LAST_NAME,AGE,SEX,INCOME) VALUES ('Miguel', 'Diaz', 32, 'F', 4500000)''')\n",
    "conn.commit()"
   ]
  },
  {
   "cell_type": "code",
   "execution_count": 50,
   "id": "b2af28f4-b4ae-4d42-a1ac-dacc1fbbe2ab",
   "metadata": {},
   "outputs": [
    {
     "data": {
      "text/plain": [
       "[('Gladys', 'Escobar', 66, 'F', 2500000.0),\n",
       " ('Miguel', 'Diaz', 32, 'F', 4500000.0)]"
      ]
     },
     "execution_count": 50,
     "metadata": {},
     "output_type": "execute_result"
    }
   ],
   "source": [
    "result = cursor.fetchmany(2)\n",
    "result"
   ]
  },
  {
   "cell_type": "markdown",
   "id": "abfa01f7-cf2a-47c5-8e43-b2cf9458350b",
   "metadata": {},
   "source": [
    "### Update rows"
   ]
  },
  {
   "cell_type": "code",
   "execution_count": 57,
   "id": "c5305d39-5a0a-43c4-ae12-fefbb4702fff",
   "metadata": {},
   "outputs": [],
   "source": [
    "cursor.execute('''UPDATE EMPLOYEE SET FIRST_NAME = 'Leonard' WHERE FIRST_NAME = 'Diego' ''')\n",
    "cursor.execute('''UPDATE EMPLOYEE SET AGE = AGE + 1 WHERE SEX = 'M' ''')\n",
    "conn.commit()"
   ]
  },
  {
   "cell_type": "markdown",
   "id": "1747adec-5180-474a-8994-310ffa785225",
   "metadata": {},
   "source": [
    "### Delete rows"
   ]
  },
  {
   "cell_type": "code",
   "execution_count": 63,
   "id": "917ab200-2166-4ec8-8bfc-d7515f3c7e21",
   "metadata": {},
   "outputs": [],
   "source": [
    "cursor.execute('''DELETE FROM EMPLOYEE WHERE AGE > 60 ''')\n",
    "conn.commit()"
   ]
  },
  {
   "cell_type": "markdown",
   "id": "910ec6c7-3a6e-4dd6-8e80-9a29bf63352c",
   "metadata": {},
   "source": [
    "### Dataframe from database"
   ]
  },
  {
   "cell_type": "code",
   "execution_count": 64,
   "id": "df65f10b-e1c6-4cd2-b1e0-3cd356ab6ecc",
   "metadata": {},
   "outputs": [],
   "source": [
    "cursor.execute('''SELECT * FROM EMPLOYEE''')\n",
    "result = cursor.fetchall()\n",
    "db_dataframe = pd.DataFrame(result, columns = ['first_name', 'last_name', 'age', 'sex', 'income' ])"
   ]
  },
  {
   "cell_type": "code",
   "execution_count": 65,
   "id": "a9aea1cc-2991-4048-b229-11e4b1abf873",
   "metadata": {},
   "outputs": [
    {
     "data": {
      "text/html": [
       "<div>\n",
       "<style scoped>\n",
       "    .dataframe tbody tr th:only-of-type {\n",
       "        vertical-align: middle;\n",
       "    }\n",
       "\n",
       "    .dataframe tbody tr th {\n",
       "        vertical-align: top;\n",
       "    }\n",
       "\n",
       "    .dataframe thead th {\n",
       "        text-align: right;\n",
       "    }\n",
       "</style>\n",
       "<table border=\"1\" class=\"dataframe\">\n",
       "  <thead>\n",
       "    <tr style=\"text-align: right;\">\n",
       "      <th></th>\n",
       "      <th>first_name</th>\n",
       "      <th>last_name</th>\n",
       "      <th>age</th>\n",
       "      <th>sex</th>\n",
       "      <th>income</th>\n",
       "    </tr>\n",
       "  </thead>\n",
       "  <tbody>\n",
       "    <tr>\n",
       "      <th>0</th>\n",
       "      <td>Leonard</td>\n",
       "      <td>Ortiz</td>\n",
       "      <td>40</td>\n",
       "      <td>M</td>\n",
       "      <td>10500000.0</td>\n",
       "    </tr>\n",
       "    <tr>\n",
       "      <th>1</th>\n",
       "      <td>Julio</td>\n",
       "      <td>Ortiz</td>\n",
       "      <td>33</td>\n",
       "      <td>M</td>\n",
       "      <td>5500000.0</td>\n",
       "    </tr>\n",
       "    <tr>\n",
       "      <th>2</th>\n",
       "      <td>Lorena</td>\n",
       "      <td>Diaz</td>\n",
       "      <td>37</td>\n",
       "      <td>F</td>\n",
       "      <td>6500000.0</td>\n",
       "    </tr>\n",
       "    <tr>\n",
       "      <th>3</th>\n",
       "      <td>Miguel</td>\n",
       "      <td>Diaz</td>\n",
       "      <td>32</td>\n",
       "      <td>F</td>\n",
       "      <td>4500000.0</td>\n",
       "    </tr>\n",
       "  </tbody>\n",
       "</table>\n",
       "</div>"
      ],
      "text/plain": [
       "  first_name last_name  age sex      income\n",
       "0    Leonard     Ortiz   40   M  10500000.0\n",
       "1      Julio     Ortiz   33   M   5500000.0\n",
       "2     Lorena      Diaz   37   F   6500000.0\n",
       "3     Miguel      Diaz   32   F   4500000.0"
      ]
     },
     "execution_count": 65,
     "metadata": {},
     "output_type": "execute_result"
    }
   ],
   "source": [
    "db_dataframe"
   ]
  },
  {
   "cell_type": "markdown",
   "id": "cb304c93-6df3-4559-9b3b-ddf24fb9cfb2",
   "metadata": {},
   "source": [
    "## Non-Relational database"
   ]
  },
  {
   "cell_type": "code",
   "execution_count": 67,
   "id": "71264f55-f750-4ef0-9ab4-75bcfd887304",
   "metadata": {},
   "outputs": [
    {
     "name": "stdout",
     "output_type": "stream",
     "text": [
      "Collecting pymongo\n",
      "  Downloading pymongo-3.12.0-cp38-cp38-win_amd64.whl (397 kB)\n",
      "Installing collected packages: pymongo\n",
      "Successfully installed pymongo-3.12.0\n",
      "Note: you may need to restart the kernel to use updated packages.\n"
     ]
    }
   ],
   "source": [
    "pip install pymongo"
   ]
  },
  {
   "cell_type": "code",
   "execution_count": 1,
   "id": "2f8d9388-8b72-4bbe-b05b-20807bd19c03",
   "metadata": {},
   "outputs": [],
   "source": [
    "from pymongo import MongoClient"
   ]
  },
  {
   "cell_type": "code",
   "execution_count": 2,
   "id": "f1ad5eeb-a658-4b5d-a9b8-28e7108e4ee6",
   "metadata": {},
   "outputs": [],
   "source": [
    "client = MongoClient()"
   ]
  },
  {
   "cell_type": "code",
   "execution_count": null,
   "id": "04e7b52e-3e9d-4e01-ab36-e00cd3f63af3",
   "metadata": {},
   "outputs": [],
   "source": []
  }
 ],
 "metadata": {
  "kernelspec": {
   "display_name": "Python 3",
   "language": "python",
   "name": "python3"
  },
  "language_info": {
   "codemirror_mode": {
    "name": "ipython",
    "version": 3
   },
   "file_extension": ".py",
   "mimetype": "text/x-python",
   "name": "python",
   "nbconvert_exporter": "python",
   "pygments_lexer": "ipython3",
   "version": "3.8.10"
  }
 },
 "nbformat": 4,
 "nbformat_minor": 5
}
