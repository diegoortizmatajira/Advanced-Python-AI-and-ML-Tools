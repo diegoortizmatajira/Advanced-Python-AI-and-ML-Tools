{
 "cells": [
  {
   "cell_type": "code",
   "execution_count": 3,
   "id": "21a57218-c5ba-483f-9a00-6f726b1e7cf0",
   "metadata": {},
   "outputs": [],
   "source": [
    "reflected_numbers = {\n",
    "    '0': '0',\n",
    "    '1': '1',\n",
    "    '6': '9',\n",
    "    '8': '8',\n",
    "    '9': '6'\n",
    "}\n"
   ]
  },
  {
   "cell_type": "code",
   "execution_count": 103,
   "id": "43f5a933-78b9-4d49-b6c2-7b80cbdf4832",
   "metadata": {},
   "outputs": [],
   "source": [
    "keys = ['0', '1', '6', '8', '9']\n",
    "symetrical_indexes = [0, 1, 3]"
   ]
  },
  {
   "cell_type": "code",
   "execution_count": 127,
   "id": "d0b0bf12-402c-40b6-82cb-bfc735fd1b45",
   "metadata": {},
   "outputs": [],
   "source": [
    "def recursive(size, candidate_indexes, position, result):\n",
    "    if position < size // 2:\n",
    "        for i in range(len(keys)):\n",
    "            candidate_indexes[position] = i\n",
    "            recursive(size, candidate_indexes, position + 1, result)\n",
    "    elif size % 2 != 0 and position == size // 2:\n",
    "        for symetrical in symetrical_indexes:\n",
    "            candidate_indexes[position] = symetrical\n",
    "            recursive(size, candidate_indexes, position + 1, result)        \n",
    "    else:\n",
    "        left = ''\n",
    "        right = ''\n",
    "        middle = ''\n",
    "        for j in range(size // 2):\n",
    "            left = left + keys[candidate_indexes[j]]\n",
    "            right = reflected_numbers[keys[candidate_indexes[j]]] + right\n",
    "        if size % 2 != 0:\n",
    "            middle = keys[candidate_indexes[size // 2]]\n",
    "        result.append(left+middle+right)\n",
    "        \n",
    "            \n",
    "def strobogramatic_numbers(size):\n",
    "    result = []\n",
    "    recursive(size, [0]*size, 0, result)\n",
    "    return result\n",
    "       \n",
    "    "
   ]
  },
  {
   "cell_type": "code",
   "execution_count": 128,
   "id": "cfe42a5f-5199-4ba5-86ca-082ba1247606",
   "metadata": {},
   "outputs": [
    {
     "data": {
      "text/plain": [
       "['000',\n",
       " '010',\n",
       " '080',\n",
       " '101',\n",
       " '111',\n",
       " '181',\n",
       " '609',\n",
       " '619',\n",
       " '689',\n",
       " '808',\n",
       " '818',\n",
       " '888',\n",
       " '906',\n",
       " '916',\n",
       " '986']"
      ]
     },
     "execution_count": 128,
     "metadata": {},
     "output_type": "execute_result"
    }
   ],
   "source": [
    "strobogramatic_numbers(3)"
   ]
  },
  {
   "cell_type": "code",
   "execution_count": 129,
   "id": "1b83a4e5-ecfa-48ca-8b7e-20fe223ff1da",
   "metadata": {},
   "outputs": [
    {
     "data": {
      "text/plain": [
       "['00', '11', '69', '88', '96']"
      ]
     },
     "execution_count": 129,
     "metadata": {},
     "output_type": "execute_result"
    }
   ],
   "source": [
    "strobogramatic_numbers(2)"
   ]
  },
  {
   "cell_type": "code",
   "execution_count": null,
   "id": "126b0242-4af3-4db6-bc5f-1d61eacaafef",
   "metadata": {},
   "outputs": [],
   "source": []
  }
 ],
 "metadata": {
  "kernelspec": {
   "display_name": "Python 3",
   "language": "python",
   "name": "python3"
  },
  "language_info": {
   "codemirror_mode": {
    "name": "ipython",
    "version": 3
   },
   "file_extension": ".py",
   "mimetype": "text/x-python",
   "name": "python",
   "nbconvert_exporter": "python",
   "pygments_lexer": "ipython3",
   "version": "3.8.10"
  }
 },
 "nbformat": 4,
 "nbformat_minor": 5
}
