{
 "cells": [
  {
   "cell_type": "markdown",
   "id": "eb24018e-7bed-4d3b-a1d0-c8e5f8222a2a",
   "metadata": {},
   "source": [
    "# Q1:\n",
    "\n",
    "Imagine you have m x n integer grid accounts where accounts[i][j] is the cash the i​​​​​​​​​​​th​​​​ person has in the j​​​​​​​​​​​th​​​​ account. Who is the richest person and how much cash he/she has. Write a FUNCTION to do that and make sure to test your function using the below input?\n",
    "\n",
    "Example: \n",
    "\n",
    "Input: accounts = [[x,5],[7,y],[x,y]]\n",
    "PS: x is first right hand side number in your student ID , so just replace X with the appropriate number before you test your code...\n",
    "y is the second write hand side number in your student ID...replace y with the appropriate number before you run the code.\n",
    "e.g: if your student ID is 50047698 then X=8 AND y=9\n",
    "Output: 17\n",
    "Explanation: \n",
    "for example if your student ID is 50047698 then X=8 AND y=9\n",
    "\n",
    "1st customer has wealth = (x+5)=8+5=13 \n",
    "2nd customer has wealth = (7+y)=7+9=16 \n",
    "3rd customer has wealth = x+y ( in this example 17)\n",
    "The 3nd customer is the richest with a wealth of 17. "
   ]
  },
  {
   "cell_type": "code",
   "execution_count": 6,
   "id": "24bd68a2-1b07-4b9c-a57e-4631dcdb043f",
   "metadata": {},
   "outputs": [],
   "source": [
    "import numpy as np"
   ]
  },
  {
   "cell_type": "code",
   "execution_count": 26,
   "id": "9159ec6f-ca33-4675-b2c7-370e0ad3fb7a",
   "metadata": {},
   "outputs": [],
   "source": [
    "def richest_person(input_matrix):\n",
    "    wealths = input_matrix.sum(axis = 1)\n",
    "    return wealths.max()\n",
    "\n",
    "def test_richness(x, y):\n",
    "    test_matrix = np.array([[x, 5],[7, y],[x, y]])\n",
    "    return richest_person(test_matrix)"
   ]
  },
  {
   "cell_type": "code",
   "execution_count": 29,
   "id": "11ed4263-03db-474d-9e7b-e272ba5e317e",
   "metadata": {},
   "outputs": [
    {
     "name": "stdout",
     "output_type": "stream",
     "text": [
      "Test with c0816681 15\n",
      "Test with 50047698 17\n"
     ]
    }
   ],
   "source": [
    "# Diego Ortiz - c0816681\n",
    "print('Test with c0816681', test_richness(1, 8))\n",
    "print('Test with 50047698', test_richness(8, 9))"
   ]
  },
  {
   "cell_type": "markdown",
   "id": "3f765e4f-4cce-430c-a88f-be6c75633312",
   "metadata": {},
   "source": [
    "# Q2: \n",
    "\n",
    "Write a function that calculates the first 20+x numbers of Fibonacci sequence and save that in a list named \"Fib1\"(x is the right-hand side number of your student ID, for example is your student id is 500478329, then x=9)\n",
    "\n",
    "Use the last 2 digits from the end of \"Fib 1\" and calculate the 10+x elements from the Fibonacci sequence and call that \"Fib2\"\n",
    "\n",
    "Make sure to print out all the results"
   ]
  },
  {
   "cell_type": "code",
   "execution_count": 59,
   "id": "c48f9961-e82f-417a-b3e8-7d05f311de8d",
   "metadata": {},
   "outputs": [],
   "source": [
    "def fib(n):\n",
    "    if n <= 1:\n",
    "        return 1\n",
    "    else:\n",
    "        return fib(n-1)+fib(n-2)\n",
    "    \n",
    "def fib_list(n, result):\n",
    "    if n == 0:\n",
    "        result.append(1)\n",
    "        return result\n",
    "    elif n == 1:\n",
    "        result = fib_list(n-1, result)\n",
    "        result.append(1)\n",
    "        return result\n",
    "    else:\n",
    "        result = fib_list(n-1, result)\n",
    "        result.append(result[-2:].sum)\n",
    "        return result\n",
    "    \n",
    "def fib_1(x):\n",
    "    return fib(20+x)\n",
    "\n",
    "def fib_2(x):\n",
    "    return fib(10+x)\n",
    "\n",
    "def test_fib(x):\n",
    "    fib1 = fib_1(x)\n",
    "    #fib2 = fib_2(fib1)\n",
    "    fib2 = 0\n",
    "    print('fib1:', fib1)\n",
    "    print('fib2:', fib2)\n",
    "    return fib1, fib2"
   ]
  },
  {
   "cell_type": "code",
   "execution_count": 61,
   "id": "53e8b9e4-3df4-4e43-af6f-a9044b473662",
   "metadata": {},
   "outputs": [
    {
     "name": "stdout",
     "output_type": "stream",
     "text": [
      "[1]\n",
      "[1, 1]\n"
     ]
    },
    {
     "ename": "AttributeError",
     "evalue": "'list' object has no attribute 'sum'",
     "output_type": "error",
     "traceback": [
      "\u001b[1;31m---------------------------------------------------------------------------\u001b[0m",
      "\u001b[1;31mAttributeError\u001b[0m                            Traceback (most recent call last)",
      "\u001b[1;32m<ipython-input-61-e6e78adef19d>\u001b[0m in \u001b[0;36m<module>\u001b[1;34m\u001b[0m\n\u001b[0;32m      1\u001b[0m \u001b[0mprint\u001b[0m\u001b[1;33m(\u001b[0m\u001b[0mfib_list\u001b[0m\u001b[1;33m(\u001b[0m\u001b[1;36m0\u001b[0m\u001b[1;33m,\u001b[0m \u001b[1;33m[\u001b[0m\u001b[1;33m]\u001b[0m\u001b[1;33m)\u001b[0m\u001b[1;33m)\u001b[0m\u001b[1;33m\u001b[0m\u001b[1;33m\u001b[0m\u001b[0m\n\u001b[0;32m      2\u001b[0m \u001b[0mprint\u001b[0m\u001b[1;33m(\u001b[0m\u001b[0mfib_list\u001b[0m\u001b[1;33m(\u001b[0m\u001b[1;36m1\u001b[0m\u001b[1;33m,\u001b[0m \u001b[1;33m[\u001b[0m\u001b[1;33m]\u001b[0m\u001b[1;33m)\u001b[0m\u001b[1;33m)\u001b[0m\u001b[1;33m\u001b[0m\u001b[1;33m\u001b[0m\u001b[0m\n\u001b[1;32m----> 3\u001b[1;33m \u001b[0mprint\u001b[0m\u001b[1;33m(\u001b[0m\u001b[0mfib_list\u001b[0m\u001b[1;33m(\u001b[0m\u001b[1;36m5\u001b[0m\u001b[1;33m,\u001b[0m \u001b[1;33m[\u001b[0m\u001b[1;33m]\u001b[0m\u001b[1;33m)\u001b[0m\u001b[1;33m)\u001b[0m\u001b[1;33m\u001b[0m\u001b[1;33m\u001b[0m\u001b[0m\n\u001b[0m",
      "\u001b[1;32m<ipython-input-59-2afe86b57e01>\u001b[0m in \u001b[0;36mfib_list\u001b[1;34m(n, result)\u001b[0m\n\u001b[0;32m     14\u001b[0m         \u001b[1;32mreturn\u001b[0m \u001b[0mresult\u001b[0m\u001b[1;33m\u001b[0m\u001b[1;33m\u001b[0m\u001b[0m\n\u001b[0;32m     15\u001b[0m     \u001b[1;32melse\u001b[0m\u001b[1;33m:\u001b[0m\u001b[1;33m\u001b[0m\u001b[1;33m\u001b[0m\u001b[0m\n\u001b[1;32m---> 16\u001b[1;33m         \u001b[0mresult\u001b[0m \u001b[1;33m=\u001b[0m \u001b[0mfib_list\u001b[0m\u001b[1;33m(\u001b[0m\u001b[0mn\u001b[0m\u001b[1;33m-\u001b[0m\u001b[1;36m1\u001b[0m\u001b[1;33m,\u001b[0m \u001b[0mresult\u001b[0m\u001b[1;33m)\u001b[0m\u001b[1;33m\u001b[0m\u001b[1;33m\u001b[0m\u001b[0m\n\u001b[0m\u001b[0;32m     17\u001b[0m         \u001b[0mresult\u001b[0m\u001b[1;33m.\u001b[0m\u001b[0mappend\u001b[0m\u001b[1;33m(\u001b[0m\u001b[0mresult\u001b[0m\u001b[1;33m[\u001b[0m\u001b[1;33m-\u001b[0m\u001b[1;36m2\u001b[0m\u001b[1;33m:\u001b[0m\u001b[1;33m]\u001b[0m\u001b[1;33m.\u001b[0m\u001b[0msum\u001b[0m\u001b[1;33m)\u001b[0m\u001b[1;33m\u001b[0m\u001b[1;33m\u001b[0m\u001b[0m\n\u001b[0;32m     18\u001b[0m         \u001b[1;32mreturn\u001b[0m \u001b[0mresult\u001b[0m\u001b[1;33m\u001b[0m\u001b[1;33m\u001b[0m\u001b[0m\n",
      "\u001b[1;32m<ipython-input-59-2afe86b57e01>\u001b[0m in \u001b[0;36mfib_list\u001b[1;34m(n, result)\u001b[0m\n\u001b[0;32m     14\u001b[0m         \u001b[1;32mreturn\u001b[0m \u001b[0mresult\u001b[0m\u001b[1;33m\u001b[0m\u001b[1;33m\u001b[0m\u001b[0m\n\u001b[0;32m     15\u001b[0m     \u001b[1;32melse\u001b[0m\u001b[1;33m:\u001b[0m\u001b[1;33m\u001b[0m\u001b[1;33m\u001b[0m\u001b[0m\n\u001b[1;32m---> 16\u001b[1;33m         \u001b[0mresult\u001b[0m \u001b[1;33m=\u001b[0m \u001b[0mfib_list\u001b[0m\u001b[1;33m(\u001b[0m\u001b[0mn\u001b[0m\u001b[1;33m-\u001b[0m\u001b[1;36m1\u001b[0m\u001b[1;33m,\u001b[0m \u001b[0mresult\u001b[0m\u001b[1;33m)\u001b[0m\u001b[1;33m\u001b[0m\u001b[1;33m\u001b[0m\u001b[0m\n\u001b[0m\u001b[0;32m     17\u001b[0m         \u001b[0mresult\u001b[0m\u001b[1;33m.\u001b[0m\u001b[0mappend\u001b[0m\u001b[1;33m(\u001b[0m\u001b[0mresult\u001b[0m\u001b[1;33m[\u001b[0m\u001b[1;33m-\u001b[0m\u001b[1;36m2\u001b[0m\u001b[1;33m:\u001b[0m\u001b[1;33m]\u001b[0m\u001b[1;33m.\u001b[0m\u001b[0msum\u001b[0m\u001b[1;33m)\u001b[0m\u001b[1;33m\u001b[0m\u001b[1;33m\u001b[0m\u001b[0m\n\u001b[0;32m     18\u001b[0m         \u001b[1;32mreturn\u001b[0m \u001b[0mresult\u001b[0m\u001b[1;33m\u001b[0m\u001b[1;33m\u001b[0m\u001b[0m\n",
      "\u001b[1;32m<ipython-input-59-2afe86b57e01>\u001b[0m in \u001b[0;36mfib_list\u001b[1;34m(n, result)\u001b[0m\n\u001b[0;32m     14\u001b[0m         \u001b[1;32mreturn\u001b[0m \u001b[0mresult\u001b[0m\u001b[1;33m\u001b[0m\u001b[1;33m\u001b[0m\u001b[0m\n\u001b[0;32m     15\u001b[0m     \u001b[1;32melse\u001b[0m\u001b[1;33m:\u001b[0m\u001b[1;33m\u001b[0m\u001b[1;33m\u001b[0m\u001b[0m\n\u001b[1;32m---> 16\u001b[1;33m         \u001b[0mresult\u001b[0m \u001b[1;33m=\u001b[0m \u001b[0mfib_list\u001b[0m\u001b[1;33m(\u001b[0m\u001b[0mn\u001b[0m\u001b[1;33m-\u001b[0m\u001b[1;36m1\u001b[0m\u001b[1;33m,\u001b[0m \u001b[0mresult\u001b[0m\u001b[1;33m)\u001b[0m\u001b[1;33m\u001b[0m\u001b[1;33m\u001b[0m\u001b[0m\n\u001b[0m\u001b[0;32m     17\u001b[0m         \u001b[0mresult\u001b[0m\u001b[1;33m.\u001b[0m\u001b[0mappend\u001b[0m\u001b[1;33m(\u001b[0m\u001b[0mresult\u001b[0m\u001b[1;33m[\u001b[0m\u001b[1;33m-\u001b[0m\u001b[1;36m2\u001b[0m\u001b[1;33m:\u001b[0m\u001b[1;33m]\u001b[0m\u001b[1;33m.\u001b[0m\u001b[0msum\u001b[0m\u001b[1;33m)\u001b[0m\u001b[1;33m\u001b[0m\u001b[1;33m\u001b[0m\u001b[0m\n\u001b[0;32m     18\u001b[0m         \u001b[1;32mreturn\u001b[0m \u001b[0mresult\u001b[0m\u001b[1;33m\u001b[0m\u001b[1;33m\u001b[0m\u001b[0m\n",
      "\u001b[1;32m<ipython-input-59-2afe86b57e01>\u001b[0m in \u001b[0;36mfib_list\u001b[1;34m(n, result)\u001b[0m\n\u001b[0;32m     15\u001b[0m     \u001b[1;32melse\u001b[0m\u001b[1;33m:\u001b[0m\u001b[1;33m\u001b[0m\u001b[1;33m\u001b[0m\u001b[0m\n\u001b[0;32m     16\u001b[0m         \u001b[0mresult\u001b[0m \u001b[1;33m=\u001b[0m \u001b[0mfib_list\u001b[0m\u001b[1;33m(\u001b[0m\u001b[0mn\u001b[0m\u001b[1;33m-\u001b[0m\u001b[1;36m1\u001b[0m\u001b[1;33m,\u001b[0m \u001b[0mresult\u001b[0m\u001b[1;33m)\u001b[0m\u001b[1;33m\u001b[0m\u001b[1;33m\u001b[0m\u001b[0m\n\u001b[1;32m---> 17\u001b[1;33m         \u001b[0mresult\u001b[0m\u001b[1;33m.\u001b[0m\u001b[0mappend\u001b[0m\u001b[1;33m(\u001b[0m\u001b[0mresult\u001b[0m\u001b[1;33m[\u001b[0m\u001b[1;33m-\u001b[0m\u001b[1;36m2\u001b[0m\u001b[1;33m:\u001b[0m\u001b[1;33m]\u001b[0m\u001b[1;33m.\u001b[0m\u001b[0msum\u001b[0m\u001b[1;33m)\u001b[0m\u001b[1;33m\u001b[0m\u001b[1;33m\u001b[0m\u001b[0m\n\u001b[0m\u001b[0;32m     18\u001b[0m         \u001b[1;32mreturn\u001b[0m \u001b[0mresult\u001b[0m\u001b[1;33m\u001b[0m\u001b[1;33m\u001b[0m\u001b[0m\n\u001b[0;32m     19\u001b[0m \u001b[1;33m\u001b[0m\u001b[0m\n",
      "\u001b[1;31mAttributeError\u001b[0m: 'list' object has no attribute 'sum'"
     ]
    }
   ],
   "source": [
    "print(fib_list(0, []))\n",
    "print(fib_list(1, []))\n",
    "print(fib_list(5, []))\n"
   ]
  },
  {
   "cell_type": "code",
   "execution_count": 49,
   "id": "73ef3b2a-9344-49c2-a74e-39eb538f2ba9",
   "metadata": {},
   "outputs": [
    {
     "name": "stdout",
     "output_type": "stream",
     "text": [
      "fib1: 17711\n",
      "fib2: 0\n",
      "fib1: 28657\n",
      "fib2: 0\n",
      "fib1: 46368\n",
      "fib2: 0\n",
      "fib1: 75025\n",
      "fib2: 0\n"
     ]
    },
    {
     "data": {
      "text/plain": [
       "(75025, 0)"
      ]
     },
     "execution_count": 49,
     "metadata": {},
     "output_type": "execute_result"
    }
   ],
   "source": [
    "test_fib(1)\n",
    "test_fib(2)\n",
    "test_fib(3)\n",
    "test_fib(4)"
   ]
  },
  {
   "cell_type": "code",
   "execution_count": 40,
   "id": "bd2fc1db-7944-4947-9973-a99bceaf40fe",
   "metadata": {},
   "outputs": [
    {
     "name": "stdout",
     "output_type": "stream",
     "text": [
      "Test with c0816681 1\n",
      "Test with 50047698 55\n"
     ]
    }
   ],
   "source": [
    "# Diego Ortiz - c0816681\n",
    "print('Test with c0816681', test_fib(1))\n",
    "print('Test with 50047698', test_fib(9))"
   ]
  },
  {
   "cell_type": "code",
   "execution_count": null,
   "id": "be077a2a-a4f9-49ef-b27b-cf61925321fe",
   "metadata": {},
   "outputs": [],
   "source": []
  }
 ],
 "metadata": {
  "kernelspec": {
   "display_name": "Python 3",
   "language": "python",
   "name": "python3"
  },
  "language_info": {
   "codemirror_mode": {
    "name": "ipython",
    "version": 3
   },
   "file_extension": ".py",
   "mimetype": "text/x-python",
   "name": "python",
   "nbconvert_exporter": "python",
   "pygments_lexer": "ipython3",
   "version": "3.8.10"
  }
 },
 "nbformat": 4,
 "nbformat_minor": 5
}
