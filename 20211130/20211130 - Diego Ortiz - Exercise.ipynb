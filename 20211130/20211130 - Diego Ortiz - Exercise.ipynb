{
 "cells": [
  {
   "cell_type": "markdown",
   "id": "eb5b347a-aec5-447a-8259-c5949915544e",
   "metadata": {},
   "source": [
    "# In-Class Exercise\n",
    "Diego Ortiz - c0816681"
   ]
  },
  {
   "cell_type": "markdown",
   "id": "924facba-3c6f-4d5c-a2ee-41f0af49c43e",
   "metadata": {},
   "source": [
    "Write a Python program to create a new array such that each\n",
    "element at index i of the new array is the product of all the\n",
    "numbers of a given array of integers except the one at i.\n",
    "\n",
    "Input: [10, 20, 30, 40, 50]\n",
    "\n",
    "Output: [1200000, 600000, 400000, 300000, 240000]\n",
    "\n",
    "Input: [1, 2, O, 4]\n",
    "\n",
    "Output: [0, 0, 8, 0]\n",
    "\n",
    "Sample Output:\n",
    "\n",
    "[1200000, 600000, 400000, 300000, 240000]\n",
    "\n",
    "[0,0,8,0]\n",
    "\n",
    "[-24, -12, -8, 6]\n"
   ]
  },
  {
   "cell_type": "code",
   "execution_count": 39,
   "id": "77997f23-f27e-4421-925c-01842c789ba9",
   "metadata": {},
   "outputs": [],
   "source": [
    "def prod_other_than_i(array, i):\n",
    "    product = 1\n",
    "    for index, value in enumerate(array):\n",
    "        if index != i:\n",
    "            product *= value\n",
    "    return product\n",
    "\n",
    "def array_product(array):\n",
    "    return [prod_other_than_i(array, i) for i in range(0, len(array))]"
   ]
  },
  {
   "cell_type": "code",
   "execution_count": 40,
   "id": "f7e5bc70-bbc6-4d08-95ad-64a0d80faf89",
   "metadata": {},
   "outputs": [
    {
     "data": {
      "text/plain": [
       "[1200000, 600000, 400000, 300000, 240000]"
      ]
     },
     "execution_count": 40,
     "metadata": {},
     "output_type": "execute_result"
    }
   ],
   "source": [
    "array_product([10, 20, 30, 40, 50])"
   ]
  },
  {
   "cell_type": "code",
   "execution_count": 41,
   "id": "ceb3cb3c-bd75-4981-90ef-5840b36194e7",
   "metadata": {},
   "outputs": [
    {
     "data": {
      "text/plain": [
       "[0, 0, 8, 0]"
      ]
     },
     "execution_count": 41,
     "metadata": {},
     "output_type": "execute_result"
    }
   ],
   "source": [
    "array_product([1, 2, 0, 4])"
   ]
  },
  {
   "cell_type": "code",
   "execution_count": 42,
   "id": "d803d925-4516-4919-be86-9651c5a10b12",
   "metadata": {},
   "outputs": [
    {
     "data": {
      "text/plain": [
       "[-24, -12, -8, 6]"
      ]
     },
     "execution_count": 42,
     "metadata": {},
     "output_type": "execute_result"
    }
   ],
   "source": [
    "array_product([1, 2, 3, -4])"
   ]
  }
 ],
 "metadata": {
  "kernelspec": {
   "display_name": "Python 3 (ipykernel)",
   "language": "python",
   "name": "python3"
  },
  "language_info": {
   "codemirror_mode": {
    "name": "ipython",
    "version": 3
   },
   "file_extension": ".py",
   "mimetype": "text/x-python",
   "name": "python",
   "nbconvert_exporter": "python",
   "pygments_lexer": "ipython3",
   "version": "3.8.12"
  }
 },
 "nbformat": 4,
 "nbformat_minor": 5
}
