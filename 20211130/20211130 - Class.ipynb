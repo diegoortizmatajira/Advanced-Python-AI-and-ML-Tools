{
 "cells": [
  {
   "cell_type": "code",
   "execution_count": 1,
   "id": "2d54f53d-54cd-40e1-8b88-05a99cdbf07c",
   "metadata": {},
   "outputs": [
    {
     "data": {
      "text/plain": [
       "[1, 2, 3, -4]"
      ]
     },
     "execution_count": 1,
     "metadata": {},
     "output_type": "execute_result"
    }
   ],
   "source": [
    "array = [1, 2, 3, -4]\n",
    "[i for i in array]"
   ]
  },
  {
   "cell_type": "markdown",
   "id": "42f79a7b-9441-4100-ba9f-031848abd802",
   "metadata": {},
   "source": [
    "# Simple Linear regression"
   ]
  },
  {
   "cell_type": "code",
   "execution_count": 2,
   "id": "73ccb4ce-5c46-4692-99b3-4b89a0b281e4",
   "metadata": {},
   "outputs": [],
   "source": [
    "from sklearn.linear_model import LinearRegression\n",
    "from sklearn.datasets import load_boston"
   ]
  },
  {
   "cell_type": "code",
   "execution_count": 3,
   "id": "4f9c268d-fb88-4172-b42e-915512f42cc7",
   "metadata": {},
   "outputs": [
    {
     "name": "stderr",
     "output_type": "stream",
     "text": [
      "C:\\tools\\Anaconda3\\envs\\College\\lib\\site-packages\\sklearn\\utils\\deprecation.py:87: FutureWarning: Function load_boston is deprecated; `load_boston` is deprecated in 1.0 and will be removed in 1.2.\n",
      "\n",
      "    The Boston housing prices dataset has an ethical problem. You can refer to\n",
      "    the documentation of this function for further details.\n",
      "\n",
      "    The scikit-learn maintainers therefore strongly discourage the use of this\n",
      "    dataset unless the purpose of the code is to study and educate about\n",
      "    ethical issues in data science and machine learning.\n",
      "\n",
      "    In this special case, you can fetch the dataset from the original\n",
      "    source::\n",
      "\n",
      "        import pandas as pd\n",
      "        import numpy as np\n",
      "\n",
      "\n",
      "        data_url = \"http://lib.stat.cmu.edu/datasets/boston\"\n",
      "        raw_df = pd.read_csv(data_url, sep=\"\\s+\", skiprows=22, header=None)\n",
      "        data = np.hstack([raw_df.values[::2, :], raw_df.values[1::2, :2]])\n",
      "        target = raw_df.values[1::2, 2]\n",
      "\n",
      "    Alternative datasets include the California housing dataset (i.e.\n",
      "    :func:`~sklearn.datasets.fetch_california_housing`) and the Ames housing\n",
      "    dataset. You can load the datasets as follows::\n",
      "\n",
      "        from sklearn.datasets import fetch_california_housing\n",
      "        housing = fetch_california_housing()\n",
      "\n",
      "    for the California housing dataset and::\n",
      "\n",
      "        from sklearn.datasets import fetch_openml\n",
      "        housing = fetch_openml(name=\"house_prices\", as_frame=True)\n",
      "\n",
      "    for the Ames housing dataset.\n",
      "    \n",
      "  warnings.warn(msg, category=FutureWarning)\n"
     ]
    }
   ],
   "source": [
    "boston = load_boston()\n",
    "features = boston.data[:,0:2]\n",
    "target = boston.target"
   ]
  },
  {
   "cell_type": "code",
   "execution_count": 4,
   "id": "4ef5c3ef-b473-4e8f-a63a-20b2a09e3ea2",
   "metadata": {},
   "outputs": [],
   "source": [
    "regression = LinearRegression()\n",
    "model = regression.fit(features, target)"
   ]
  },
  {
   "cell_type": "code",
   "execution_count": 5,
   "id": "6fb84586-f86c-4eff-a29b-3743e83d75fc",
   "metadata": {},
   "outputs": [
    {
     "name": "stdout",
     "output_type": "stream",
     "text": [
      "Score: 0.23398843834155303\n"
     ]
    }
   ],
   "source": [
    "print(f'Score: {model.score(features, target)}')"
   ]
  },
  {
   "cell_type": "markdown",
   "id": "b2d04a23-bd94-4f5a-a737-ef0c002349b6",
   "metadata": {},
   "source": [
    "# Polynomial Features"
   ]
  },
  {
   "cell_type": "code",
   "execution_count": 6,
   "id": "b7152ed1-8ee2-4cca-a0f8-ccc89ede60bc",
   "metadata": {},
   "outputs": [],
   "source": [
    "from sklearn.preprocessing import PolynomialFeatures"
   ]
  },
  {
   "cell_type": "code",
   "execution_count": 24,
   "id": "fa887e40-20d2-423c-9ee3-8d20a620a0dd",
   "metadata": {},
   "outputs": [],
   "source": [
    "polynomial = PolynomialFeatures(degree = 3, include_bias = False)\n",
    "features_polynomial = polynomial.fit_transform(features)"
   ]
  },
  {
   "cell_type": "markdown",
   "id": "79f59240-2726-4b39-ac9e-58d0f68252d8",
   "metadata": {},
   "source": [
    "# Ridge Regularization"
   ]
  },
  {
   "cell_type": "code",
   "execution_count": 15,
   "id": "857419f6-d95b-4458-8eba-66a0885adf6f",
   "metadata": {},
   "outputs": [],
   "source": [
    "from sklearn.linear_model import Ridge"
   ]
  },
  {
   "cell_type": "code",
   "execution_count": 20,
   "id": "aea9dfb9-03be-49ce-8cb4-f3497c20f5b8",
   "metadata": {},
   "outputs": [
    {
     "name": "stdout",
     "output_type": "stream",
     "text": [
      "Score: 0.23398843832201088\n"
     ]
    }
   ],
   "source": [
    "regression = Ridge(alpha = 0.5)\n",
    "model = regression.fit(features, target)\n",
    "print(f'Score: {model.score(features, target)}')"
   ]
  },
  {
   "cell_type": "code",
   "execution_count": 17,
   "id": "9f3e57fe-8ff6-4418-a393-93a7baec2d32",
   "metadata": {},
   "outputs": [],
   "source": [
    "from sklearn.linear_model import RidgeCV"
   ]
  },
  {
   "cell_type": "code",
   "execution_count": 21,
   "id": "8686ce97-82e8-4b3e-889a-b7937e84c0f6",
   "metadata": {},
   "outputs": [
    {
     "name": "stdout",
     "output_type": "stream",
     "text": [
      "Score: 0.23398843052877583\n"
     ]
    }
   ],
   "source": [
    "regr_cv = RidgeCV(alphas=[0.1,1.0,10.0])\n",
    "model = regr_cv.fit(features, target)\n",
    "print(f'Score: {model.score(features, target)}')"
   ]
  },
  {
   "cell_type": "markdown",
   "id": "4156df6c-acf5-4607-9e3d-1396b770a1a7",
   "metadata": {},
   "source": [
    "# Lasso Regularization"
   ]
  },
  {
   "cell_type": "code",
   "execution_count": 25,
   "id": "503fbdb5-ffb4-40fb-9e08-33e9a3c0d744",
   "metadata": {},
   "outputs": [
    {
     "name": "stdout",
     "output_type": "stream",
     "text": [
      "Score: 0.2339471505995897\n"
     ]
    }
   ],
   "source": [
    "from sklearn.linear_model import Lasso\n",
    "regression = Lasso(alpha = 0.5)\n",
    "model = regression.fit(features, target)\n",
    "print(f'Score: {model.score(features, target)}')"
   ]
  },
  {
   "cell_type": "code",
   "execution_count": null,
   "id": "7a88525b-5908-4b3c-a072-b7e2fa9803ff",
   "metadata": {},
   "outputs": [],
   "source": []
  }
 ],
 "metadata": {
  "kernelspec": {
   "display_name": "Python 3 (ipykernel)",
   "language": "python",
   "name": "python3"
  },
  "language_info": {
   "codemirror_mode": {
    "name": "ipython",
    "version": 3
   },
   "file_extension": ".py",
   "mimetype": "text/x-python",
   "name": "python",
   "nbconvert_exporter": "python",
   "pygments_lexer": "ipython3",
   "version": "3.8.12"
  }
 },
 "nbformat": 4,
 "nbformat_minor": 5
}
