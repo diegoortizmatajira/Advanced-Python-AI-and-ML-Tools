{
 "cells": [
  {
   "cell_type": "markdown",
   "id": "eb33af8a-159e-4fdb-9a20-a3ecebdd28e2",
   "metadata": {},
   "source": [
    "# Class exercise\n",
    "\n",
    "Write a Python program to check a sequence of numbers is a geometric progression or not.\n",
    "\n",
    "**Input** : [2, 6, 18, 54]\n",
    "\n",
    "**Output** : True\n",
    "\n",
    "In mathematics, a geometric progression or geometric sequence is a sequence of numbers where each term after the first is found by multiplying the previous one by a fixed, non-zero number called the common ratio. \n",
    "\n",
    "For example, the sequence 2, 6, 18, 54, ... is a geometric progression with common ratio 3. \n",
    "Similarly, 10, 5, 2.5, 1.25... is a geometric sequence with common ratio 1/2."
   ]
  },
  {
   "cell_type": "code",
   "execution_count": 24,
   "id": "a751c752-99b6-4b13-92cc-8e58dffb51ee",
   "metadata": {},
   "outputs": [],
   "source": [
    "def check_progression(input_list):\n",
    "    previous = input_list[0]\n",
    "    previous_k = None\n",
    "    for value in input_list[1:]:\n",
    "        k = value / previous\n",
    "        print(f'ratio: {k}')\n",
    "        if (previous_k != None and previous_k != k):\n",
    "            print('The list of values is NOT a Geometric Progression')\n",
    "            return False\n",
    "        previous_k = k\n",
    "        previous = value\n",
    "    print('The list of values is a Geometric Progression')\n",
    "    return True"
   ]
  },
  {
   "cell_type": "code",
   "execution_count": 25,
   "id": "3da91534-338e-419a-a4a9-0a82b1312ff4",
   "metadata": {},
   "outputs": [
    {
     "name": "stdout",
     "output_type": "stream",
     "text": [
      "ratio: 3.0\n",
      "ratio: 3.0\n",
      "ratio: 3.0\n",
      "The list of values is a Geometric Progression\n"
     ]
    },
    {
     "data": {
      "text/plain": [
       "True"
      ]
     },
     "execution_count": 25,
     "metadata": {},
     "output_type": "execute_result"
    }
   ],
   "source": [
    "values = [2, 6, 18, 54]\n",
    "check_progression(values)"
   ]
  },
  {
   "cell_type": "code",
   "execution_count": 26,
   "id": "fdbc4e55-be96-46be-b5ee-de12d9fa335f",
   "metadata": {},
   "outputs": [
    {
     "name": "stdout",
     "output_type": "stream",
     "text": [
      "ratio: 0.5\n",
      "ratio: 0.5\n",
      "ratio: 0.5\n",
      "The list of values is a Geometric Progression\n"
     ]
    },
    {
     "data": {
      "text/plain": [
       "True"
      ]
     },
     "execution_count": 26,
     "metadata": {},
     "output_type": "execute_result"
    }
   ],
   "source": [
    "values = [10, 5, 2.5, 1.25]\n",
    "check_progression(values)"
   ]
  },
  {
   "cell_type": "code",
   "execution_count": 27,
   "id": "ee4e1247-82fc-4e1a-b759-d9e341a9d564",
   "metadata": {},
   "outputs": [
    {
     "name": "stdout",
     "output_type": "stream",
     "text": [
      "ratio: 1.0\n",
      "ratio: 1.2\n",
      "The list of values is NOT a Geometric Progression\n"
     ]
    },
    {
     "data": {
      "text/plain": [
       "False"
      ]
     },
     "execution_count": 27,
     "metadata": {},
     "output_type": "execute_result"
    }
   ],
   "source": [
    "values = [5,5,6]\n",
    "check_progression(values)"
   ]
  },
  {
   "cell_type": "code",
   "execution_count": null,
   "id": "c587fa50-d227-4328-ad0d-000ea0f0b42c",
   "metadata": {},
   "outputs": [],
   "source": []
  }
 ],
 "metadata": {
  "kernelspec": {
   "display_name": "Python 3 (ipykernel)",
   "language": "python",
   "name": "python3"
  },
  "language_info": {
   "codemirror_mode": {
    "name": "ipython",
    "version": 3
   },
   "file_extension": ".py",
   "mimetype": "text/x-python",
   "name": "python",
   "nbconvert_exporter": "python",
   "pygments_lexer": "ipython3",
   "version": "3.8.12"
  }
 },
 "nbformat": 4,
 "nbformat_minor": 5
}
