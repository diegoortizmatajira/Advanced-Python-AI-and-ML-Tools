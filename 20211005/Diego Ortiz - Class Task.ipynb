{
 "cells": [
  {
   "cell_type": "markdown",
   "id": "0a85f3e3-a917-4afd-9631-0cc422ed39a7",
   "metadata": {},
   "source": [
    "# Reverse bits of an integer"
   ]
  },
  {
   "cell_type": "code",
   "execution_count": 55,
   "id": "67f140e8-9981-4a02-b62c-39e2a2d0c46e",
   "metadata": {},
   "outputs": [],
   "source": [
    "def reverse_bits(number):\n",
    "    original = format(number, 'b')\n",
    "    result = \"\"\n",
    "    for c in original:\n",
    "        result = c + result\n",
    "    for i in range(32 - len(original)):\n",
    "        result =  result + '0'\n",
    "    reverse = int(result, 2)\n",
    "    print(f'{number} ({original}) -> {reverse} ({result})')\n",
    "    return reverse"
   ]
  },
  {
   "cell_type": "code",
   "execution_count": 56,
   "id": "b9a13ce1-8883-48a3-aba2-cc90001bd18c",
   "metadata": {},
   "outputs": [
    {
     "name": "stdout",
     "output_type": "stream",
     "text": [
      "1234 (10011010010) -> 1260388352 (01001011001000000000000000000000)\n"
     ]
    },
    {
     "data": {
      "text/plain": [
       "1260388352"
      ]
     },
     "execution_count": 56,
     "metadata": {},
     "output_type": "execute_result"
    }
   ],
   "source": [
    "reverse_bits(1234)"
   ]
  },
  {
   "cell_type": "markdown",
   "id": "37a4a216-8468-470d-9f04-f43e5fe45b84",
   "metadata": {},
   "source": [
    "# Sum of two reversed numbers"
   ]
  },
  {
   "cell_type": "code",
   "execution_count": 60,
   "id": "d5ed89d4-5e5c-4cb9-93d8-8e6b50314f46",
   "metadata": {},
   "outputs": [],
   "source": [
    "def reverse_number(number):\n",
    "    original = format(number)\n",
    "    result = \"\"\n",
    "    for c in original:\n",
    "        result = c + result\n",
    "    reverse = int(result)\n",
    "    print(f'{number} -> {reverse}')\n",
    "    return reverse"
   ]
  },
  {
   "cell_type": "code",
   "execution_count": 61,
   "id": "28c88ed2-2876-4ab1-8090-2d139ca8d96b",
   "metadata": {},
   "outputs": [],
   "source": [
    "def sum_of_reversed(num_a, num_b):\n",
    "    rev_a = reverse_number(num_a)\n",
    "    rev_b = reverse_number(num_b)\n",
    "    result = rev_a + rev_b\n",
    "    return reverse_number(result)"
   ]
  },
  {
   "cell_type": "code",
   "execution_count": 62,
   "id": "2d7aa110-c2b0-4493-9257-ed61478b10fe",
   "metadata": {},
   "outputs": [
    {
     "name": "stdout",
     "output_type": "stream",
     "text": [
      "13 -> 31\n",
      "14 -> 41\n",
      "72 -> 27\n"
     ]
    },
    {
     "data": {
      "text/plain": [
       "27"
      ]
     },
     "execution_count": 62,
     "metadata": {},
     "output_type": "execute_result"
    }
   ],
   "source": [
    "sum_of_reversed(13,14)"
   ]
  },
  {
   "cell_type": "code",
   "execution_count": 63,
   "id": "6e4dbb66-35b3-40ec-a8d4-7d7430aeebca",
   "metadata": {},
   "outputs": [
    {
     "name": "stdout",
     "output_type": "stream",
     "text": [
      "130 -> 31\n",
      "14 -> 41\n",
      "72 -> 27\n"
     ]
    },
    {
     "data": {
      "text/plain": [
       "27"
      ]
     },
     "execution_count": 63,
     "metadata": {},
     "output_type": "execute_result"
    }
   ],
   "source": [
    "sum_of_reversed(130,14)"
   ]
  },
  {
   "cell_type": "code",
   "execution_count": null,
   "id": "6ae11c71-760b-48ad-b9ec-eb0ac37baf09",
   "metadata": {},
   "outputs": [],
   "source": []
  }
 ],
 "metadata": {
  "kernelspec": {
   "display_name": "Python 3",
   "language": "python",
   "name": "python3"
  },
  "language_info": {
   "codemirror_mode": {
    "name": "ipython",
    "version": 3
   },
   "file_extension": ".py",
   "mimetype": "text/x-python",
   "name": "python",
   "nbconvert_exporter": "python",
   "pygments_lexer": "ipython3",
   "version": "3.8.10"
  }
 },
 "nbformat": 4,
 "nbformat_minor": 5
}
