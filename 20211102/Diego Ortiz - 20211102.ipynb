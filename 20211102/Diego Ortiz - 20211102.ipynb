{
 "cells": [
  {
   "cell_type": "markdown",
   "id": "d758abfc-a6c1-49a4-9a63-db92c5070788",
   "metadata": {},
   "source": [
    "# Class Exercise for November 2nd, 2021"
   ]
  },
  {
   "cell_type": "markdown",
   "id": "f8952fb7-0eb5-414e-9a0b-267f30030095",
   "metadata": {},
   "source": [
    "## Problem 1: Sum the numbers (positive and negatives) in a string"
   ]
  },
  {
   "cell_type": "code",
   "execution_count": 17,
   "id": "57eaf2af-b310-4a94-9dcf-50ddc0c5a6b4",
   "metadata": {},
   "outputs": [],
   "source": [
    "import re"
   ]
  },
  {
   "cell_type": "code",
   "execution_count": 18,
   "id": "e5799161-9681-4410-a37e-8cca6e397f49",
   "metadata": {},
   "outputs": [],
   "source": [
    "def extract_numbers(input):\n",
    "    return re.findall(\"-{0,1}\\d+\", input)\n",
    "\n",
    "def get_sums(input):\n",
    "    numbers = extract_numbers(input)\n",
    "    print(f'Extracted numbers: {numbers}')\n",
    "    positive_sum = 0\n",
    "    negative_sum = 0\n",
    "    for strn in numbers:\n",
    "        n = int(strn)\n",
    "        if n >= 0:\n",
    "            positive_sum = positive_sum + n\n",
    "        else:\n",
    "            negative_sum = negative_sum + n\n",
    "    print(f'Positive values: {positive_sum}')\n",
    "    print(f'Negative values: {negative_sum}')\n",
    "    "
   ]
  },
  {
   "cell_type": "code",
   "execution_count": 19,
   "id": "2d25048a-52c9-4ef7-8f59-f3e8d76fd607",
   "metadata": {},
   "outputs": [],
   "source": [
    "sample_input = \"-100@^sdfkj8902w3ir021@swf-20\""
   ]
  },
  {
   "cell_type": "code",
   "execution_count": 20,
   "id": "8220c467-36fd-4eb7-bc2b-c246efe9877e",
   "metadata": {},
   "outputs": [
    {
     "name": "stdout",
     "output_type": "stream",
     "text": [
      "Extracted numbers: ['-100', '8902', '3', '021', '-20']\n",
      "Positive values: 8926\n",
      "Negative values: -120\n"
     ]
    }
   ],
   "source": [
    "get_sums(sample_input)"
   ]
  },
  {
   "cell_type": "markdown",
   "id": "414842d4-8842-4f37-a32c-a08d4bce264b",
   "metadata": {},
   "source": [
    "## Problem 2: Powers of digits"
   ]
  },
  {
   "cell_type": "code",
   "execution_count": 51,
   "id": "8a59caca-5d7e-4df3-8648-2296fb95230c",
   "metadata": {},
   "outputs": [],
   "source": [
    "def get_digits(input):\n",
    "    result = []\n",
    "    temp = input\n",
    "    while temp > 0:\n",
    "        result.append(temp - int(temp / 10) * 10)\n",
    "        temp = int(temp / 10)\n",
    "    return result\n",
    "    \n",
    "def find_numbers():\n",
    "    found = 0\n",
    "    exp = 5\n",
    "    total = 0\n",
    "    for n in range(2, 100000):\n",
    "        digits = get_digits(n)\n",
    "        sumn = 0\n",
    "        for digit in digits:\n",
    "            sumn = sumn + digit**exp\n",
    "        if sumn == n:\n",
    "            print(f'found number {n}')\n",
    "            total = total + n\n",
    "    print(f'Sum of all the numbers that can be written as the sum of fifth powers of their digits: {total}')\n"
   ]
  },
  {
   "cell_type": "code",
   "execution_count": 52,
   "id": "f8813cce-e0a7-4127-9c9f-3aeb6b7643bc",
   "metadata": {},
   "outputs": [
    {
     "name": "stdout",
     "output_type": "stream",
     "text": [
      "found number 4150\n",
      "found number 4151\n",
      "found number 54748\n",
      "found number 92727\n",
      "found number 93084\n",
      "Sum of all the numbers that can be written as the sum of fifth powers of their digits: 248860\n"
     ]
    }
   ],
   "source": [
    "find_numbers()"
   ]
  },
  {
   "cell_type": "markdown",
   "id": "fc08ede2-299c-4c72-8ce3-fc80a22a2d0b",
   "metadata": {},
   "source": [
    "# Class"
   ]
  },
  {
   "cell_type": "code",
   "execution_count": 103,
   "id": "f9511164-c4e0-4824-ac48-7f52fc68f8f3",
   "metadata": {},
   "outputs": [],
   "source": [
    "import pandas as pd\n",
    "import numpy as np"
   ]
  },
  {
   "cell_type": "code",
   "execution_count": 104,
   "id": "b206cf6a-8f1a-401c-a34b-0091c3521d8c",
   "metadata": {},
   "outputs": [],
   "source": [
    "full_df = pd.read_csv('train.csv')"
   ]
  },
  {
   "cell_type": "code",
   "execution_count": 105,
   "id": "f67383e6-65c3-43ec-bbb1-52d4d26aa18e",
   "metadata": {},
   "outputs": [
    {
     "data": {
      "text/html": [
       "<div>\n",
       "<style scoped>\n",
       "    .dataframe tbody tr th:only-of-type {\n",
       "        vertical-align: middle;\n",
       "    }\n",
       "\n",
       "    .dataframe tbody tr th {\n",
       "        vertical-align: top;\n",
       "    }\n",
       "\n",
       "    .dataframe thead th {\n",
       "        text-align: right;\n",
       "    }\n",
       "</style>\n",
       "<table border=\"1\" class=\"dataframe\">\n",
       "  <thead>\n",
       "    <tr style=\"text-align: right;\">\n",
       "      <th></th>\n",
       "      <th>Id</th>\n",
       "      <th>MSSubClass</th>\n",
       "      <th>MSZoning</th>\n",
       "      <th>LotFrontage</th>\n",
       "      <th>LotArea</th>\n",
       "      <th>Street</th>\n",
       "      <th>Alley</th>\n",
       "      <th>LotShape</th>\n",
       "      <th>LandContour</th>\n",
       "      <th>Utilities</th>\n",
       "      <th>...</th>\n",
       "      <th>PoolArea</th>\n",
       "      <th>PoolQC</th>\n",
       "      <th>Fence</th>\n",
       "      <th>MiscFeature</th>\n",
       "      <th>MiscVal</th>\n",
       "      <th>MoSold</th>\n",
       "      <th>YrSold</th>\n",
       "      <th>SaleType</th>\n",
       "      <th>SaleCondition</th>\n",
       "      <th>SalePrice</th>\n",
       "    </tr>\n",
       "  </thead>\n",
       "  <tbody>\n",
       "    <tr>\n",
       "      <th>989</th>\n",
       "      <td>990</td>\n",
       "      <td>60</td>\n",
       "      <td>FV</td>\n",
       "      <td>65.0</td>\n",
       "      <td>8125</td>\n",
       "      <td>Pave</td>\n",
       "      <td>NaN</td>\n",
       "      <td>Reg</td>\n",
       "      <td>Lvl</td>\n",
       "      <td>AllPub</td>\n",
       "      <td>...</td>\n",
       "      <td>0</td>\n",
       "      <td>NaN</td>\n",
       "      <td>NaN</td>\n",
       "      <td>NaN</td>\n",
       "      <td>0</td>\n",
       "      <td>8</td>\n",
       "      <td>2006</td>\n",
       "      <td>New</td>\n",
       "      <td>Partial</td>\n",
       "      <td>197000</td>\n",
       "    </tr>\n",
       "    <tr>\n",
       "      <th>1231</th>\n",
       "      <td>1232</td>\n",
       "      <td>90</td>\n",
       "      <td>RL</td>\n",
       "      <td>70.0</td>\n",
       "      <td>7728</td>\n",
       "      <td>Pave</td>\n",
       "      <td>NaN</td>\n",
       "      <td>Reg</td>\n",
       "      <td>Lvl</td>\n",
       "      <td>AllPub</td>\n",
       "      <td>...</td>\n",
       "      <td>0</td>\n",
       "      <td>NaN</td>\n",
       "      <td>GdWo</td>\n",
       "      <td>NaN</td>\n",
       "      <td>0</td>\n",
       "      <td>5</td>\n",
       "      <td>2006</td>\n",
       "      <td>WD</td>\n",
       "      <td>Normal</td>\n",
       "      <td>132500</td>\n",
       "    </tr>\n",
       "    <tr>\n",
       "      <th>898</th>\n",
       "      <td>899</td>\n",
       "      <td>20</td>\n",
       "      <td>RL</td>\n",
       "      <td>100.0</td>\n",
       "      <td>12919</td>\n",
       "      <td>Pave</td>\n",
       "      <td>NaN</td>\n",
       "      <td>IR1</td>\n",
       "      <td>Lvl</td>\n",
       "      <td>AllPub</td>\n",
       "      <td>...</td>\n",
       "      <td>0</td>\n",
       "      <td>NaN</td>\n",
       "      <td>NaN</td>\n",
       "      <td>NaN</td>\n",
       "      <td>0</td>\n",
       "      <td>3</td>\n",
       "      <td>2010</td>\n",
       "      <td>New</td>\n",
       "      <td>Partial</td>\n",
       "      <td>611657</td>\n",
       "    </tr>\n",
       "    <tr>\n",
       "      <th>1362</th>\n",
       "      <td>1363</td>\n",
       "      <td>50</td>\n",
       "      <td>RL</td>\n",
       "      <td>NaN</td>\n",
       "      <td>12513</td>\n",
       "      <td>Pave</td>\n",
       "      <td>NaN</td>\n",
       "      <td>IR1</td>\n",
       "      <td>Lvl</td>\n",
       "      <td>AllPub</td>\n",
       "      <td>...</td>\n",
       "      <td>0</td>\n",
       "      <td>NaN</td>\n",
       "      <td>NaN</td>\n",
       "      <td>NaN</td>\n",
       "      <td>0</td>\n",
       "      <td>6</td>\n",
       "      <td>2009</td>\n",
       "      <td>WD</td>\n",
       "      <td>Normal</td>\n",
       "      <td>104900</td>\n",
       "    </tr>\n",
       "    <tr>\n",
       "      <th>944</th>\n",
       "      <td>945</td>\n",
       "      <td>20</td>\n",
       "      <td>RL</td>\n",
       "      <td>NaN</td>\n",
       "      <td>14375</td>\n",
       "      <td>Pave</td>\n",
       "      <td>NaN</td>\n",
       "      <td>IR1</td>\n",
       "      <td>Lvl</td>\n",
       "      <td>NoSeWa</td>\n",
       "      <td>...</td>\n",
       "      <td>0</td>\n",
       "      <td>NaN</td>\n",
       "      <td>NaN</td>\n",
       "      <td>NaN</td>\n",
       "      <td>0</td>\n",
       "      <td>1</td>\n",
       "      <td>2009</td>\n",
       "      <td>COD</td>\n",
       "      <td>Abnorml</td>\n",
       "      <td>137500</td>\n",
       "    </tr>\n",
       "  </tbody>\n",
       "</table>\n",
       "<p>5 rows × 81 columns</p>\n",
       "</div>"
      ],
      "text/plain": [
       "        Id  MSSubClass MSZoning  LotFrontage  LotArea Street Alley LotShape  \\\n",
       "989    990          60       FV         65.0     8125   Pave   NaN      Reg   \n",
       "1231  1232          90       RL         70.0     7728   Pave   NaN      Reg   \n",
       "898    899          20       RL        100.0    12919   Pave   NaN      IR1   \n",
       "1362  1363          50       RL          NaN    12513   Pave   NaN      IR1   \n",
       "944    945          20       RL          NaN    14375   Pave   NaN      IR1   \n",
       "\n",
       "     LandContour Utilities  ... PoolArea PoolQC Fence MiscFeature MiscVal  \\\n",
       "989          Lvl    AllPub  ...        0    NaN   NaN         NaN       0   \n",
       "1231         Lvl    AllPub  ...        0    NaN  GdWo         NaN       0   \n",
       "898          Lvl    AllPub  ...        0    NaN   NaN         NaN       0   \n",
       "1362         Lvl    AllPub  ...        0    NaN   NaN         NaN       0   \n",
       "944          Lvl    NoSeWa  ...        0    NaN   NaN         NaN       0   \n",
       "\n",
       "     MoSold YrSold  SaleType  SaleCondition  SalePrice  \n",
       "989       8   2006       New        Partial     197000  \n",
       "1231      5   2006        WD         Normal     132500  \n",
       "898       3   2010       New        Partial     611657  \n",
       "1362      6   2009        WD         Normal     104900  \n",
       "944       1   2009       COD        Abnorml     137500  \n",
       "\n",
       "[5 rows x 81 columns]"
      ]
     },
     "execution_count": 105,
     "metadata": {},
     "output_type": "execute_result"
    }
   ],
   "source": [
    "full_df.sample(5)"
   ]
  },
  {
   "cell_type": "code",
   "execution_count": 106,
   "id": "f354c602-b409-45bf-83f6-9a61221c9717",
   "metadata": {},
   "outputs": [],
   "source": [
    "# create datafame with LotArea and Salesprace\n",
    "df = full_df[['LotArea', 'SalePrice']]"
   ]
  },
  {
   "cell_type": "code",
   "execution_count": 107,
   "id": "8886cde3-058e-4070-af1f-7868c66b0efd",
   "metadata": {},
   "outputs": [
    {
     "data": {
      "text/html": [
       "<div>\n",
       "<style scoped>\n",
       "    .dataframe tbody tr th:only-of-type {\n",
       "        vertical-align: middle;\n",
       "    }\n",
       "\n",
       "    .dataframe tbody tr th {\n",
       "        vertical-align: top;\n",
       "    }\n",
       "\n",
       "    .dataframe thead th {\n",
       "        text-align: right;\n",
       "    }\n",
       "</style>\n",
       "<table border=\"1\" class=\"dataframe\">\n",
       "  <thead>\n",
       "    <tr style=\"text-align: right;\">\n",
       "      <th></th>\n",
       "      <th>LotArea</th>\n",
       "      <th>SalePrice</th>\n",
       "    </tr>\n",
       "  </thead>\n",
       "  <tbody>\n",
       "    <tr>\n",
       "      <th>760</th>\n",
       "      <td>9100</td>\n",
       "      <td>127500</td>\n",
       "    </tr>\n",
       "    <tr>\n",
       "      <th>481</th>\n",
       "      <td>11846</td>\n",
       "      <td>374000</td>\n",
       "    </tr>\n",
       "    <tr>\n",
       "      <th>1214</th>\n",
       "      <td>10205</td>\n",
       "      <td>134500</td>\n",
       "    </tr>\n",
       "    <tr>\n",
       "      <th>272</th>\n",
       "      <td>11764</td>\n",
       "      <td>290000</td>\n",
       "    </tr>\n",
       "    <tr>\n",
       "      <th>498</th>\n",
       "      <td>7800</td>\n",
       "      <td>130000</td>\n",
       "    </tr>\n",
       "  </tbody>\n",
       "</table>\n",
       "</div>"
      ],
      "text/plain": [
       "      LotArea  SalePrice\n",
       "760      9100     127500\n",
       "481     11846     374000\n",
       "1214    10205     134500\n",
       "272     11764     290000\n",
       "498      7800     130000"
      ]
     },
     "execution_count": 107,
     "metadata": {},
     "output_type": "execute_result"
    }
   ],
   "source": [
    "df.sample(5)"
   ]
  },
  {
   "cell_type": "code",
   "execution_count": 108,
   "id": "8c0e769b-3afc-426b-b35b-1e7e196cdf31",
   "metadata": {},
   "outputs": [
    {
     "name": "stdout",
     "output_type": "stream",
     "text": [
      "5000.0\n",
      "14381.70000000001\n"
     ]
    }
   ],
   "source": [
    "print(df['LotArea'].quantile(0.10))\n",
    "print(df['LotArea'].quantile(0.90))"
   ]
  },
  {
   "cell_type": "markdown",
   "id": "01696e98-c3d1-4452-8f38-b5cef0426a0b",
   "metadata": {},
   "source": [
    "### ceiling and flooring"
   ]
  },
  {
   "cell_type": "code",
   "execution_count": 109,
   "id": "741f4bdf-98ea-4d0b-bf34-bb307a92361d",
   "metadata": {},
   "outputs": [
    {
     "name": "stderr",
     "output_type": "stream",
     "text": [
      "<ipython-input-109-510e1381c206>:2: SettingWithCopyWarning: \n",
      "A value is trying to be set on a copy of a slice from a DataFrame.\n",
      "Try using .loc[row_indexer,col_indexer] = value instead\n",
      "\n",
      "See the caveats in the documentation: https://pandas.pydata.org/pandas-docs/stable/user_guide/indexing.html#returning-a-view-versus-a-copy\n",
      "  df['LotArea'] = np.where(df['LotArea'] < 5000.0, 5000.0, df['LotArea'])\n",
      "<ipython-input-109-510e1381c206>:3: SettingWithCopyWarning: \n",
      "A value is trying to be set on a copy of a slice from a DataFrame.\n",
      "Try using .loc[row_indexer,col_indexer] = value instead\n",
      "\n",
      "See the caveats in the documentation: https://pandas.pydata.org/pandas-docs/stable/user_guide/indexing.html#returning-a-view-versus-a-copy\n",
      "  df['LotArea'] = np.where(df['LotArea'] > 14381.7, 14381.7, df['LotArea'])\n"
     ]
    }
   ],
   "source": [
    "# Applies ceiling and flooring to the values using the quartiles\n",
    "df['LotArea'] = np.where(df['LotArea'] < 5000.0, 5000.0, df['LotArea'])\n",
    "df['LotArea'] = np.where(df['LotArea'] > 14381.7, 14381.7, df['LotArea'])"
   ]
  },
  {
   "cell_type": "markdown",
   "id": "ca01d0f8-c6bc-4ac6-a002-45e8274b844b",
   "metadata": {},
   "source": [
    "### Trimming"
   ]
  },
  {
   "cell_type": "code",
   "execution_count": 110,
   "id": "db82a5b5-152a-40fb-bca2-334b71cc8bca",
   "metadata": {},
   "outputs": [
    {
     "name": "stdout",
     "output_type": "stream",
     "text": [
      "106475.0\n",
      "278000.0\n"
     ]
    }
   ],
   "source": [
    "print(df['SalePrice'].quantile(0.10))\n",
    "print(df['SalePrice'].quantile(0.90))"
   ]
  },
  {
   "cell_type": "code",
   "execution_count": 111,
   "id": "c82bc8ab-2800-45b3-bfff-f8eb882f476a",
   "metadata": {},
   "outputs": [
    {
     "data": {
      "text/plain": [
       "(1460, 2)"
      ]
     },
     "execution_count": 111,
     "metadata": {},
     "output_type": "execute_result"
    }
   ],
   "source": [
    "df.shape"
   ]
  },
  {
   "cell_type": "code",
   "execution_count": 112,
   "id": "01b3ce9d-01ed-4a9f-8eec-930e19787ce4",
   "metadata": {},
   "outputs": [
    {
     "name": "stderr",
     "output_type": "stream",
     "text": [
      "C:\\tools\\Anaconda3\\envs\\Lambton\\lib\\site-packages\\pandas\\core\\frame.py:4308: SettingWithCopyWarning: \n",
      "A value is trying to be set on a copy of a slice from a DataFrame\n",
      "\n",
      "See the caveats in the documentation: https://pandas.pydata.org/pandas-docs/stable/user_guide/indexing.html#returning-a-view-versus-a-copy\n",
      "  return super().drop(\n"
     ]
    }
   ],
   "source": [
    "index = df[(df['SalePrice'] > 272800.0)|(df['SalePrice'] < 107500.0)].index\n",
    "df.drop(index, inplace = True)"
   ]
  },
  {
   "cell_type": "code",
   "execution_count": 113,
   "id": "dc5e3c77-b83d-4e85-aafd-df3b12aec3b2",
   "metadata": {},
   "outputs": [
    {
     "data": {
      "text/plain": [
       "(1146, 2)"
      ]
     },
     "execution_count": 113,
     "metadata": {},
     "output_type": "execute_result"
    }
   ],
   "source": [
    "df.shape"
   ]
  },
  {
   "cell_type": "markdown",
   "id": "c17523c7-6d29-4152-af14-7a8f62b67d79",
   "metadata": {},
   "source": [
    "### Log Transformation"
   ]
  },
  {
   "cell_type": "code",
   "execution_count": 114,
   "id": "bff14c28-f847-4721-ba6c-85854a039a1c",
   "metadata": {},
   "outputs": [
    {
     "name": "stderr",
     "output_type": "stream",
     "text": [
      "<ipython-input-114-f7b2f44385e4>:1: SettingWithCopyWarning: \n",
      "A value is trying to be set on a copy of a slice from a DataFrame.\n",
      "Try using .loc[row_indexer,col_indexer] = value instead\n",
      "\n",
      "See the caveats in the documentation: https://pandas.pydata.org/pandas-docs/stable/user_guide/indexing.html#returning-a-view-versus-a-copy\n",
      "  df['Log_SalePrice'] = df['SalePrice'].map(lambda i: np.log(i) if i > 0 else 0)\n"
     ]
    }
   ],
   "source": [
    "df['Log_SalePrice'] = df['SalePrice'].map(lambda i: np.log(i) if i > 0 else 0)"
   ]
  },
  {
   "cell_type": "code",
   "execution_count": 115,
   "id": "3036adef-7afe-4ae4-a66e-18cc63907420",
   "metadata": {},
   "outputs": [
    {
     "name": "stdout",
     "output_type": "stream",
     "text": [
      "0.5914378307058675\n",
      "0.21445584817701227\n"
     ]
    }
   ],
   "source": [
    "print(df['SalePrice'].skew())\n",
    "print(df['Log_SalePrice'].skew())"
   ]
  },
  {
   "cell_type": "code",
   "execution_count": 116,
   "id": "b392654e-4ea7-4bf1-813e-9e773d92633a",
   "metadata": {},
   "outputs": [
    {
     "data": {
      "text/plain": [
       "<AxesSubplot:>"
      ]
     },
     "execution_count": 116,
     "metadata": {},
     "output_type": "execute_result"
    },
    {
     "data": {
      "image/png": "[encoded data removed]",
      "text/plain": [
       "<Figure size 432x288 with 1 Axes>"
      ]
     },
     "metadata": {
      "needs_background": "light"
     },
     "output_type": "display_data"
    }
   ],
   "source": [
    "df['SalePrice'].hist()"
   ]
  },
  {
   "cell_type": "code",
   "execution_count": 117,
   "id": "a5945aa8-2198-4ec2-9ea3-6cb3b65c0e4c",
   "metadata": {},
   "outputs": [
    {
     "data": {
      "text/plain": [
       "<AxesSubplot:>"
      ]
     },
     "execution_count": 117,
     "metadata": {},
     "output_type": "execute_result"
    },
    {
     "data": {
      "image/png": "[encoded data removed]",
      "text/plain": [
       "<Figure size 432x288 with 1 Axes>"
      ]
     },
     "metadata": {
      "needs_background": "light"
     },
     "output_type": "display_data"
    }
   ],
   "source": [
    "df['Log_SalePrice'].hist()"
   ]
  },
  {
   "cell_type": "markdown",
   "id": "8cdcf3ff-8c90-411a-8613-09c9f863b215",
   "metadata": {},
   "source": [
    "### Binarizer"
   ]
  },
  {
   "cell_type": "code",
   "execution_count": 118,
   "id": "1c19efbb-b488-4192-9f01-220b8b0cdf6f",
   "metadata": {},
   "outputs": [],
   "source": [
    "from sklearn.preprocessing import Binarizer"
   ]
  },
  {
   "cell_type": "code",
   "execution_count": 120,
   "id": "b8d430cd-d453-40bd-8a45-629458d0a673",
   "metadata": {},
   "outputs": [
    {
     "name": "stderr",
     "output_type": "stream",
     "text": [
      "C:\\tools\\Anaconda3\\envs\\Lambton\\lib\\site-packages\\sklearn\\utils\\validation.py:70: FutureWarning: Pass threshold=18 as keyword args. From version 1.0 (renaming of 0.25) passing these as positional arguments will result in an error\n",
      "  warnings.warn(f\"Pass {args_msg} as keyword args. From version \"\n"
     ]
    },
    {
     "data": {
      "text/plain": [
       "array([[0],\n",
       "       [0],\n",
       "       [1],\n",
       "       [1],\n",
       "       [1]])"
      ]
     },
     "execution_count": 120,
     "metadata": {},
     "output_type": "execute_result"
    }
   ],
   "source": [
    "age = np.array([[6],[12],[20],[36],[65]])\n",
    "binarizer = Binarizer(18)\n",
    "binarizer.fit_transform(age)"
   ]
  },
  {
   "cell_type": "markdown",
   "id": "3f943a7f-ff1b-45b6-8725-3f5165ab60d2",
   "metadata": {},
   "source": [
    "### Digitize"
   ]
  },
  {
   "cell_type": "code",
   "execution_count": 121,
   "id": "21394c3c-5405-4a7c-b196-0e7a2fc18230",
   "metadata": {},
   "outputs": [
    {
     "data": {
      "text/plain": [
       "array([[0],\n",
       "       [0],\n",
       "       [1],\n",
       "       [2],\n",
       "       [3]], dtype=int64)"
      ]
     },
     "execution_count": 121,
     "metadata": {},
     "output_type": "execute_result"
    }
   ],
   "source": [
    "age = np.array([[6],[12],[20],[36],[65]])\n",
    "np.digitize(age, bins=[20,30,64])"
   ]
  },
  {
   "cell_type": "markdown",
   "id": "ced4c56b-b61a-4c55-a1c4-3eacfbcdbd35",
   "metadata": {},
   "source": [
    "### Clustering observations"
   ]
  },
  {
   "cell_type": "code",
   "execution_count": 122,
   "id": "39319c56-764c-4508-9fa4-ffc44fe023f2",
   "metadata": {},
   "outputs": [],
   "source": [
    "from sklearn.datasets import make_blobs\n",
    "from sklearn.cluster import KMeans"
   ]
  },
  {
   "cell_type": "code",
   "execution_count": 123,
   "id": "d6b2c665-ef23-4320-9eb8-eec58da32553",
   "metadata": {},
   "outputs": [],
   "source": [
    "clusterer = KMeans(3, random_state=0)"
   ]
  },
  {
   "cell_type": "code",
   "execution_count": 124,
   "id": "ff48b1a0-565c-4f73-a849-8bf534c35b1e",
   "metadata": {},
   "outputs": [],
   "source": [
    "features, _ = make_blobs(n_samples = 50,\n",
    "                        n_features = 2,\n",
    "                        centers = 3,\n",
    "                        random_state = 1)"
   ]
  },
  {
   "cell_type": "code",
   "execution_count": 125,
   "id": "6d5d0c0d-046a-4cf4-bb39-12e0800a2735",
   "metadata": {},
   "outputs": [
    {
     "data": {
      "text/plain": [
       "KMeans(n_clusters=3, random_state=0)"
      ]
     },
     "execution_count": 125,
     "metadata": {},
     "output_type": "execute_result"
    }
   ],
   "source": [
    "clusterer.fit(features)"
   ]
  },
  {
   "cell_type": "code",
   "execution_count": 126,
   "id": "085dda33-4a79-4bb7-be58-28cf7ca45ed5",
   "metadata": {},
   "outputs": [],
   "source": [
    "dataframe = pd.DataFrame(features , columns= [\"feature_1\", \"feature_2\"])"
   ]
  },
  {
   "cell_type": "code",
   "execution_count": 127,
   "id": "9992d967-b3b3-40dd-ad96-8b89be1b9eec",
   "metadata": {},
   "outputs": [],
   "source": [
    "dataframe[\"group\"] = clusterer.predict(features)"
   ]
  },
  {
   "cell_type": "code",
   "execution_count": 128,
   "id": "fc4c2328-c1cb-472c-9c7e-993bb4797c8d",
   "metadata": {},
   "outputs": [
    {
     "data": {
      "text/html": [
       "<div>\n",
       "<style scoped>\n",
       "    .dataframe tbody tr th:only-of-type {\n",
       "        vertical-align: middle;\n",
       "    }\n",
       "\n",
       "    .dataframe tbody tr th {\n",
       "        vertical-align: top;\n",
       "    }\n",
       "\n",
       "    .dataframe thead th {\n",
       "        text-align: right;\n",
       "    }\n",
       "</style>\n",
       "<table border=\"1\" class=\"dataframe\">\n",
       "  <thead>\n",
       "    <tr style=\"text-align: right;\">\n",
       "      <th></th>\n",
       "      <th>feature_1</th>\n",
       "      <th>feature_2</th>\n",
       "      <th>group</th>\n",
       "    </tr>\n",
       "  </thead>\n",
       "  <tbody>\n",
       "    <tr>\n",
       "      <th>0</th>\n",
       "      <td>-9.877554</td>\n",
       "      <td>-3.336145</td>\n",
       "      <td>0</td>\n",
       "    </tr>\n",
       "    <tr>\n",
       "      <th>1</th>\n",
       "      <td>-7.287210</td>\n",
       "      <td>-8.353986</td>\n",
       "      <td>2</td>\n",
       "    </tr>\n",
       "    <tr>\n",
       "      <th>2</th>\n",
       "      <td>-6.943061</td>\n",
       "      <td>-7.023744</td>\n",
       "      <td>2</td>\n",
       "    </tr>\n",
       "    <tr>\n",
       "      <th>3</th>\n",
       "      <td>-7.440167</td>\n",
       "      <td>-8.791959</td>\n",
       "      <td>2</td>\n",
       "    </tr>\n",
       "    <tr>\n",
       "      <th>4</th>\n",
       "      <td>-6.641388</td>\n",
       "      <td>-8.075888</td>\n",
       "      <td>2</td>\n",
       "    </tr>\n",
       "  </tbody>\n",
       "</table>\n",
       "</div>"
      ],
      "text/plain": [
       "   feature_1  feature_2  group\n",
       "0  -9.877554  -3.336145      0\n",
       "1  -7.287210  -8.353986      2\n",
       "2  -6.943061  -7.023744      2\n",
       "3  -7.440167  -8.791959      2\n",
       "4  -6.641388  -8.075888      2"
      ]
     },
     "execution_count": 128,
     "metadata": {},
     "output_type": "execute_result"
    }
   ],
   "source": [
    "dataframe.head(5)"
   ]
  },
  {
   "cell_type": "markdown",
   "id": "7657741e-8e38-439d-ac4d-761c1983068e",
   "metadata": {},
   "source": [
    "### Predicting missing values"
   ]
  },
  {
   "cell_type": "code",
   "execution_count": 129,
   "id": "8c649375-24ed-4183-96d9-5730797ad028",
   "metadata": {},
   "outputs": [],
   "source": [
    "from sklearn.impute import KNNImputer"
   ]
  },
  {
   "cell_type": "code",
   "execution_count": 133,
   "id": "128fdfe3-1e53-4a82-b523-1fbb0cb9819a",
   "metadata": {},
   "outputs": [
    {
     "data": {
      "text/plain": [
       "array([[ 1.,  2., nan],\n",
       "       [ 3.,  4.,  3.],\n",
       "       [nan,  6.,  5.],\n",
       "       [ 8.,  8.,  7.]])"
      ]
     },
     "execution_count": 133,
     "metadata": {},
     "output_type": "execute_result"
    }
   ],
   "source": [
    "X = np.array([[1,2,np.nan], [3,4,3], [np.nan,6,5], [8,8,7]])\n",
    "X"
   ]
  },
  {
   "cell_type": "code",
   "execution_count": 134,
   "id": "54d29ef8-0a6a-423d-a081-056aa66622a0",
   "metadata": {},
   "outputs": [
    {
     "data": {
      "text/plain": [
       "array([[1. , 2. , 4. ],\n",
       "       [3. , 4. , 3. ],\n",
       "       [5.5, 6. , 5. ],\n",
       "       [8. , 8. , 7. ]])"
      ]
     },
     "execution_count": 134,
     "metadata": {},
     "output_type": "execute_result"
    }
   ],
   "source": [
    "imputer = KNNImputer(n_neighbors=2)\n",
    "imputer.fit_transform(X)"
   ]
  },
  {
   "cell_type": "code",
   "execution_count": null,
   "id": "3720ad2e-2fad-4e18-b471-ccf7b4aaae10",
   "metadata": {},
   "outputs": [],
   "source": []
  }
 ],
 "metadata": {
  "kernelspec": {
   "display_name": "Python 3",
   "language": "python",
   "name": "python3"
  },
  "language_info": {
   "codemirror_mode": {
    "name": "ipython",
    "version": 3
   },
   "file_extension": ".py",
   "mimetype": "text/x-python",
   "name": "python",
   "nbconvert_exporter": "python",
   "pygments_lexer": "ipython3",
   "version": "3.8.10"
  }
 },
 "nbformat": 4,
 "nbformat_minor": 5
}
