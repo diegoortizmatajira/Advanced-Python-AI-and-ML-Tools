{
 "cells": [
  {
   "cell_type": "markdown",
   "id": "d3946a3b-0f09-49b7-a9d2-dec2daf6a772",
   "metadata": {},
   "source": [
    "# Q1-Given a string s, return the longest palindromic substring in string \"S\" \n",
    "\n",
    "Input: s = \"babad\"\n",
    "Output: \"bab\"\n",
    "Note: \"aba\" is also a valid answer, if there is more than one correct answer, your code must print all answers.\n"
   ]
  },
  {
   "cell_type": "code",
   "execution_count": 42,
   "id": "430d0c17-32c3-4a69-84d2-581d02674a46",
   "metadata": {},
   "outputs": [],
   "source": [
    "def is_palindromic(s):\n",
    "    return s == s[::-1]\n",
    "\n",
    "def find_largest_palindromic(text):\n",
    "    l = len(text)\n",
    "    maxlen = 0\n",
    "    palindromes = []\n",
    "    largest_palindrome = []\n",
    "    for i in range(l):\n",
    "        for j in range(i+1, l+1):\n",
    "            word = text[i:j]\n",
    "            if is_palindromic(word) and len(word) >= maxlen:\n",
    "                maxlen = len(word)\n",
    "                palindromes.append(word)\n",
    "    return [word for word in palindromes if len(word) == maxlen ]"
   ]
  },
  {
   "cell_type": "code",
   "execution_count": 43,
   "id": "f4d536f5-40f3-4d09-b4d7-9c984394a4ae",
   "metadata": {},
   "outputs": [
    {
     "data": {
      "text/plain": [
       "['bab', 'aba']"
      ]
     },
     "execution_count": 43,
     "metadata": {},
     "output_type": "execute_result"
    }
   ],
   "source": [
    "find_largest_palindromic('babad')"
   ]
  },
  {
   "cell_type": "markdown",
   "id": "1ebfdefe-09e9-40c8-be47-5ed19df30c14",
   "metadata": {},
   "source": [
    "# Q2-Write a Python program to find the smallest positive number that is evenly divisible by all of the numbers from 3+x to 11+y\n",
    "\n",
    "e.g.,: 2520 is the smallest number that can be divided by each of the numbers from 1 to 10 without any remainder.\n"
   ]
  },
  {
   "cell_type": "code",
   "execution_count": 29,
   "id": "7fb8d033-990a-4f63-ad49-99acd071e7ad",
   "metadata": {},
   "outputs": [],
   "source": [
    "def smallest_divisible_normal(x, y):\n",
    "    n = 1\n",
    "    while True:\n",
    "        divisible = True\n",
    "        for i in range(x, y):\n",
    "            if n % i != 0:\n",
    "                divisible = False \n",
    "                break;\n",
    "        if divisible:\n",
    "            return n\n",
    "        n += 1\n",
    "        \n",
    "def smallest_divisible_as_required(x, y):\n",
    "    return smallest_divisible_normal(3+x, 11+y)"
   ]
  },
  {
   "cell_type": "code",
   "execution_count": 31,
   "id": "a4a46026-c702-440c-945d-ab5efa14b68a",
   "metadata": {},
   "outputs": [
    {
     "data": {
      "text/plain": [
       "2520"
      ]
     },
     "execution_count": 31,
     "metadata": {},
     "output_type": "execute_result"
    }
   ],
   "source": [
    "smallest_divisible_normal(1,10)"
   ]
  },
  {
   "cell_type": "code",
   "execution_count": 32,
   "id": "fc7e33da-75fd-4cf6-b337-e03ef672a6a5",
   "metadata": {},
   "outputs": [
    {
     "data": {
      "text/plain": [
       "232792560"
      ]
     },
     "execution_count": 32,
     "metadata": {},
     "output_type": "execute_result"
    }
   ],
   "source": [
    "smallest_divisible_as_required(1,10)"
   ]
  },
  {
   "cell_type": "markdown",
   "id": "efe11e18-f462-49b4-972e-a1d763affb4b",
   "metadata": {},
   "source": [
    "# Q3: Given a string containing digits from 2-9 inclusive, return all possible letter combinations that the number could represent. Return the answer in any order.\n",
    "\n",
    "A mapping of digit to letters (just like on the telephone buttons) is given below. Note that 1 does not map to any letters\n",
    "\n",
    "Example: \n",
    "\n",
    "Input: digits = \"23\"\n",
    "Output: [\"ad\",\"ae\",\"af\",\"bd\",\"be\",\"bf\",\"cd\",\"ce\",\"cf\"]"
   ]
  },
  {
   "cell_type": "code",
   "execution_count": 33,
   "id": "343afddd-446e-4e6e-a6f4-d4655ad267cc",
   "metadata": {},
   "outputs": [],
   "source": [
    "mapping = {\n",
    "    '2': ['a', 'b', 'c'],\n",
    "    '3': ['d', 'e', 'f'],\n",
    "    '4': ['g', 'h', 'i'],\n",
    "    '5': ['j', 'k', 'l'],\n",
    "    '6': ['m', 'n', 'o'],\n",
    "    '7': ['p', 'q', 'r', 's'],\n",
    "    '8': ['t', 'u', 'v'],\n",
    "    '9': ['w', 'x', 'y', 'z'],\n",
    "    '0': [' ']\n",
    "}\n",
    "\n",
    "def texting(numbers):\n",
    "    if len(numbers) == 0:\n",
    "        return ['']\n",
    "    digit = numbers[:1]\n",
    "    remaining = texting(numbers[1:])\n",
    "    result = []\n",
    "    for c in mapping[digit]:\n",
    "        for variant in remaining:\n",
    "            result.append(c + variant)\n",
    "    return result\n",
    "        "
   ]
  },
  {
   "cell_type": "code",
   "execution_count": 34,
   "id": "8d4e4565-f5b3-4eeb-97c6-efa4522b8882",
   "metadata": {},
   "outputs": [
    {
     "data": {
      "text/plain": [
       "['ad', 'ae', 'af', 'bd', 'be', 'bf', 'cd', 'ce', 'cf']"
      ]
     },
     "execution_count": 34,
     "metadata": {},
     "output_type": "execute_result"
    }
   ],
   "source": [
    "texting('23')"
   ]
  }
 ],
 "metadata": {
  "kernelspec": {
   "display_name": "Python 3 (ipykernel)",
   "language": "python",
   "name": "python3"
  },
  "language_info": {
   "codemirror_mode": {
    "name": "ipython",
    "version": 3
   },
   "file_extension": ".py",
   "mimetype": "text/x-python",
   "name": "python",
   "nbconvert_exporter": "python",
   "pygments_lexer": "ipython3",
   "version": "3.8.12"
  }
 },
 "nbformat": 4,
 "nbformat_minor": 5
}
