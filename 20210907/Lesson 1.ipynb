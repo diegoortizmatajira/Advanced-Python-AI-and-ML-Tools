{
 "cells": [
  {
   "cell_type": "code",
   "execution_count": 2,
   "id": "08703400-9923-4bd9-9501-4a96cef00ee4",
   "metadata": {},
   "outputs": [],
   "source": [
    "import pandas as pd\n",
    "df = pd.read_csv('mtcars_Rev1.csv')"
   ]
  },
  {
   "cell_type": "code",
   "execution_count": 6,
   "id": "10ea0498-2b87-4bdc-9e30-cc940a341301",
   "metadata": {},
   "outputs": [
    {
     "data": {
      "text/html": [
       "<div>\n",
       "<style scoped>\n",
       "    .dataframe tbody tr th:only-of-type {\n",
       "        vertical-align: middle;\n",
       "    }\n",
       "\n",
       "    .dataframe tbody tr th {\n",
       "        vertical-align: top;\n",
       "    }\n",
       "\n",
       "    .dataframe thead th {\n",
       "        text-align: right;\n",
       "    }\n",
       "</style>\n",
       "<table border=\"1\" class=\"dataframe\">\n",
       "  <thead>\n",
       "    <tr style=\"text-align: right;\">\n",
       "      <th></th>\n",
       "      <th>Unnamed: 0</th>\n",
       "      <th>vichle_names</th>\n",
       "      <th>mpg</th>\n",
       "      <th>cyl</th>\n",
       "      <th>disp</th>\n",
       "      <th>hp</th>\n",
       "      <th>drat</th>\n",
       "      <th>wt</th>\n",
       "      <th>qsec</th>\n",
       "      <th>v_Shape</th>\n",
       "      <th>am</th>\n",
       "      <th>gear</th>\n",
       "      <th>carb</th>\n",
       "    </tr>\n",
       "  </thead>\n",
       "  <tbody>\n",
       "    <tr>\n",
       "      <th>24</th>\n",
       "      <td>24</td>\n",
       "      <td>Pontiac Firebird</td>\n",
       "      <td>19.2</td>\n",
       "      <td>8</td>\n",
       "      <td>400.0</td>\n",
       "      <td>175.0</td>\n",
       "      <td>3.08</td>\n",
       "      <td>3.845</td>\n",
       "      <td>17.05</td>\n",
       "      <td>0.0</td>\n",
       "      <td>0.0</td>\n",
       "      <td>3.0</td>\n",
       "      <td>2</td>\n",
       "    </tr>\n",
       "    <tr>\n",
       "      <th>28</th>\n",
       "      <td>28</td>\n",
       "      <td>Ford Pantera L</td>\n",
       "      <td>15.8</td>\n",
       "      <td>8</td>\n",
       "      <td>351.0</td>\n",
       "      <td>264.0</td>\n",
       "      <td>4.22</td>\n",
       "      <td>3.170</td>\n",
       "      <td>14.50</td>\n",
       "      <td>0.0</td>\n",
       "      <td>1.0</td>\n",
       "      <td>5.0</td>\n",
       "      <td>4</td>\n",
       "    </tr>\n",
       "    <tr>\n",
       "      <th>0</th>\n",
       "      <td>0</td>\n",
       "      <td>Mazda RX4</td>\n",
       "      <td>21.0</td>\n",
       "      <td>6</td>\n",
       "      <td>160.0</td>\n",
       "      <td>110.0</td>\n",
       "      <td>3.90</td>\n",
       "      <td>2.620</td>\n",
       "      <td>16.46</td>\n",
       "      <td>0.0</td>\n",
       "      <td>1.0</td>\n",
       "      <td>4.0</td>\n",
       "      <td>4</td>\n",
       "    </tr>\n",
       "    <tr>\n",
       "      <th>17</th>\n",
       "      <td>17</td>\n",
       "      <td>Fiat 128</td>\n",
       "      <td>32.4</td>\n",
       "      <td>4</td>\n",
       "      <td>78.7</td>\n",
       "      <td>66.0</td>\n",
       "      <td>4.08</td>\n",
       "      <td>2.200</td>\n",
       "      <td>19.47</td>\n",
       "      <td>1.0</td>\n",
       "      <td>NaN</td>\n",
       "      <td>4.0</td>\n",
       "      <td>1</td>\n",
       "    </tr>\n",
       "    <tr>\n",
       "      <th>26</th>\n",
       "      <td>26</td>\n",
       "      <td>Porsche 914-2</td>\n",
       "      <td>26.0</td>\n",
       "      <td>4</td>\n",
       "      <td>120.3</td>\n",
       "      <td>91.0</td>\n",
       "      <td>4.43</td>\n",
       "      <td>2.140</td>\n",
       "      <td>16.70</td>\n",
       "      <td>0.0</td>\n",
       "      <td>1.0</td>\n",
       "      <td>5.0</td>\n",
       "      <td>2</td>\n",
       "    </tr>\n",
       "  </tbody>\n",
       "</table>\n",
       "</div>"
      ],
      "text/plain": [
       "    Unnamed: 0      vichle_names   mpg  cyl   disp     hp  drat     wt   qsec  \\\n",
       "24          24  Pontiac Firebird  19.2    8  400.0  175.0  3.08  3.845  17.05   \n",
       "28          28    Ford Pantera L  15.8    8  351.0  264.0  4.22  3.170  14.50   \n",
       "0            0         Mazda RX4  21.0    6  160.0  110.0  3.90  2.620  16.46   \n",
       "17          17          Fiat 128  32.4    4   78.7   66.0  4.08  2.200  19.47   \n",
       "26          26     Porsche 914-2  26.0    4  120.3   91.0  4.43  2.140  16.70   \n",
       "\n",
       "    v_Shape   am  gear  carb  \n",
       "24      0.0  0.0   3.0     2  \n",
       "28      0.0  1.0   5.0     4  \n",
       "0       0.0  1.0   4.0     4  \n",
       "17      1.0  NaN   4.0     1  \n",
       "26      0.0  1.0   5.0     2  "
      ]
     },
     "execution_count": 6,
     "metadata": {},
     "output_type": "execute_result"
    }
   ],
   "source": [
    "df.sample(5)"
   ]
  },
  {
   "cell_type": "markdown",
   "id": "2806c393-5b14-4b36-8c01-cdd404818305",
   "metadata": {},
   "source": [
    "## Count missing values"
   ]
  },
  {
   "cell_type": "code",
   "execution_count": 11,
   "id": "e7462931-6fbe-4d10-817b-72f68137f731",
   "metadata": {},
   "outputs": [
    {
     "data": {
      "text/plain": [
       "Unnamed: 0      0\n",
       "vichle_names    0\n",
       "mpg             2\n",
       "cyl             0\n",
       "disp            0\n",
       "hp              1\n",
       "drat            1\n",
       "wt              0\n",
       "qsec            3\n",
       "v_Shape         2\n",
       "am              4\n",
       "gear            3\n",
       "carb            0\n",
       "dtype: int64"
      ]
     },
     "execution_count": 11,
     "metadata": {},
     "output_type": "execute_result"
    }
   ],
   "source": [
    "df.isna().sum()"
   ]
  },
  {
   "cell_type": "markdown",
   "id": "ff1d9f15-dff4-4d4f-beaa-cc277f018076",
   "metadata": {},
   "source": [
    "Verify data shape"
   ]
  },
  {
   "cell_type": "markdown",
   "id": "57c8f7ad-1f2f-4797-8e10-f13573fd25ab",
   "metadata": {},
   "source": [
    "## Shape of the dataframe"
   ]
  },
  {
   "cell_type": "code",
   "execution_count": 13,
   "id": "3700a395-8223-46aa-aa78-db236069741d",
   "metadata": {},
   "outputs": [
    {
     "data": {
      "text/plain": [
       "(32, 13)"
      ]
     },
     "execution_count": 13,
     "metadata": {},
     "output_type": "execute_result"
    }
   ],
   "source": [
    "df.shape"
   ]
  },
  {
   "cell_type": "markdown",
   "id": "40de6a82-6ce6-4773-bd5e-30f033af34c9",
   "metadata": {},
   "source": [
    "## Get column Names"
   ]
  },
  {
   "cell_type": "code",
   "execution_count": 16,
   "id": "123bb292-f8cd-4515-9e3a-df03907db34d",
   "metadata": {},
   "outputs": [
    {
     "data": {
      "text/plain": [
       "['Unnamed: 0',\n",
       " 'vichle_names',\n",
       " 'mpg',\n",
       " 'cyl',\n",
       " 'disp',\n",
       " 'hp',\n",
       " 'drat',\n",
       " 'wt',\n",
       " 'qsec',\n",
       " 'v_Shape',\n",
       " 'am',\n",
       " 'gear',\n",
       " 'carb']"
      ]
     },
     "execution_count": 16,
     "metadata": {},
     "output_type": "execute_result"
    }
   ],
   "source": [
    "df.columns.tolist()"
   ]
  },
  {
   "cell_type": "markdown",
   "id": "0a019bde-7ca0-4bdb-8a9d-05ab4c50e21f",
   "metadata": {},
   "source": [
    "## Count different values in column"
   ]
  },
  {
   "cell_type": "code",
   "execution_count": 18,
   "id": "f5270bea-1136-48c8-afb7-28d3c296c531",
   "metadata": {},
   "outputs": [
    {
     "data": {
      "text/plain": [
       "Merc 450SLC            1\n",
       "Toyota Corolla         1\n",
       "Mazda RX4              1\n",
       "Dodge Challenger       1\n",
       "Honda Civic            1\n",
       "Merc 450SE             1\n",
       "Maserati Bora          1\n",
       "Chrysler Imperial      1\n",
       "Cadillac Fleetwood     1\n",
       "Datsun 710             1\n",
       "Fiat X1-9              1\n",
       "Mazda RX4 Wag          1\n",
       "Porsche 914-2          1\n",
       "Camaro Z28             1\n",
       "Ferrari Dino           1\n",
       "Ford Pantera L         1\n",
       "Merc 280C              1\n",
       "Pontiac Firebird       1\n",
       "Hornet Sportabout      1\n",
       "Merc 450SL             1\n",
       "Merc 230               1\n",
       "Lincoln Continental    1\n",
       "Hornet 4 Drive         1\n",
       "AMC Javelin            1\n",
       "Duster 360             1\n",
       "Toyota Corona          1\n",
       "Volvo 142E             1\n",
       "Valiant                1\n",
       "Lotus Europa           1\n",
       "Merc 280               1\n",
       "Fiat 128               1\n",
       "Merc 240D              1\n",
       "Name: vichle_names, dtype: int64"
      ]
     },
     "execution_count": 18,
     "metadata": {},
     "output_type": "execute_result"
    }
   ],
   "source": [
    "df.vichle_names.value_counts()"
   ]
  },
  {
   "cell_type": "code",
   "execution_count": 19,
   "id": "255f6370-5e25-4e24-876a-3e4de946c3f9",
   "metadata": {},
   "outputs": [
    {
     "data": {
      "text/plain": [
       "Merc 450SLC            1\n",
       "Toyota Corolla         1\n",
       "Mazda RX4              1\n",
       "Dodge Challenger       1\n",
       "Honda Civic            1\n",
       "Merc 450SE             1\n",
       "Maserati Bora          1\n",
       "Chrysler Imperial      1\n",
       "Cadillac Fleetwood     1\n",
       "Datsun 710             1\n",
       "Fiat X1-9              1\n",
       "Mazda RX4 Wag          1\n",
       "Porsche 914-2          1\n",
       "Camaro Z28             1\n",
       "Ferrari Dino           1\n",
       "Ford Pantera L         1\n",
       "Merc 280C              1\n",
       "Pontiac Firebird       1\n",
       "Hornet Sportabout      1\n",
       "Merc 450SL             1\n",
       "Merc 230               1\n",
       "Lincoln Continental    1\n",
       "Hornet 4 Drive         1\n",
       "AMC Javelin            1\n",
       "Duster 360             1\n",
       "Toyota Corona          1\n",
       "Volvo 142E             1\n",
       "Valiant                1\n",
       "Lotus Europa           1\n",
       "Merc 280               1\n",
       "Fiat 128               1\n",
       "Merc 240D              1\n",
       "Name: vichle_names, dtype: int64"
      ]
     },
     "execution_count": 19,
     "metadata": {},
     "output_type": "execute_result"
    }
   ],
   "source": [
    "df['vichle_names'].value_counts()"
   ]
  },
  {
   "cell_type": "code",
   "execution_count": 31,
   "id": "a8ddd74f-0481-490f-9541-52f4a67afc37",
   "metadata": {},
   "outputs": [],
   "source": [
    "df.to_json('mtcars_Rev1.json')"
   ]
  },
  {
   "cell_type": "code",
   "execution_count": 29,
   "id": "cc809e21-7929-486f-a037-83cd286e60eb",
   "metadata": {},
   "outputs": [],
   "source": [
    "json_df = pd.read_json('mtcars_Rev1.json')"
   ]
  },
  {
   "cell_type": "code",
   "execution_count": 30,
   "id": "878a18ec-63de-47b9-9157-4b52c7120abc",
   "metadata": {},
   "outputs": [
    {
     "data": {
      "text/html": [
       "<div>\n",
       "<style scoped>\n",
       "    .dataframe tbody tr th:only-of-type {\n",
       "        vertical-align: middle;\n",
       "    }\n",
       "\n",
       "    .dataframe tbody tr th {\n",
       "        vertical-align: top;\n",
       "    }\n",
       "\n",
       "    .dataframe thead th {\n",
       "        text-align: right;\n",
       "    }\n",
       "</style>\n",
       "<table border=\"1\" class=\"dataframe\">\n",
       "  <thead>\n",
       "    <tr style=\"text-align: right;\">\n",
       "      <th></th>\n",
       "      <th>,vichle_names,mpg,cyl,disp,hp,drat,wt,qsec,v_Shape,am,gear,carb</th>\n",
       "    </tr>\n",
       "  </thead>\n",
       "  <tbody>\n",
       "    <tr>\n",
       "      <th>0</th>\n",
       "      <td>0,Mazda RX4,21.0,6,160.0,110.0,3.9,2.62,16.46,...</td>\n",
       "    </tr>\n",
       "    <tr>\n",
       "      <th>1</th>\n",
       "      <td>1,Mazda RX4 Wag,21.0,6,160.0,110.0,3.9,2.875,1...</td>\n",
       "    </tr>\n",
       "    <tr>\n",
       "      <th>10</th>\n",
       "      <td>10,Merc 280C,,6,167.6,123.0,3.92,3.44,18.9,1.0...</td>\n",
       "    </tr>\n",
       "    <tr>\n",
       "      <th>11</th>\n",
       "      <td>11,Merc 450SE,16.4,8,275.8,180.0,3.07,4.07,17....</td>\n",
       "    </tr>\n",
       "    <tr>\n",
       "      <th>12</th>\n",
       "      <td>12,Merc 450SL,17.3,8,275.8,180.0,3.07,3.73,,0....</td>\n",
       "    </tr>\n",
       "    <tr>\n",
       "      <th>13</th>\n",
       "      <td>13,Merc 450SLC,15.2,8,275.8,180.0,3.07,3.78,18...</td>\n",
       "    </tr>\n",
       "    <tr>\n",
       "      <th>14</th>\n",
       "      <td>14,Cadillac Fleetwood,10.4,8,472.0,205.0,2.93,...</td>\n",
       "    </tr>\n",
       "    <tr>\n",
       "      <th>15</th>\n",
       "      <td>15,Lincoln Continental,10.4,8,460.0,215.0,3.0,...</td>\n",
       "    </tr>\n",
       "    <tr>\n",
       "      <th>16</th>\n",
       "      <td>16,Chrysler Imperial,14.7,8,440.0,230.0,3.23,5...</td>\n",
       "    </tr>\n",
       "    <tr>\n",
       "      <th>17</th>\n",
       "      <td>17,Fiat 128,32.4,4,78.7,66.0,4.08,2.2,19.47,1....</td>\n",
       "    </tr>\n",
       "    <tr>\n",
       "      <th>18</th>\n",
       "      <td>18,Honda Civic,30.4,4,75.7,52.0,4.93,1.615,18....</td>\n",
       "    </tr>\n",
       "    <tr>\n",
       "      <th>19</th>\n",
       "      <td>19,Toyota Corolla,33.9,4,71.1,65.0,4.22,1.835,...</td>\n",
       "    </tr>\n",
       "    <tr>\n",
       "      <th>2</th>\n",
       "      <td>2,Datsun 710,,4,108.0,93.0,3.85,2.32,18.61,1.0...</td>\n",
       "    </tr>\n",
       "    <tr>\n",
       "      <th>20</th>\n",
       "      <td>20,Toyota Corona,21.5,4,120.1,97.0,3.7,2.465,2...</td>\n",
       "    </tr>\n",
       "    <tr>\n",
       "      <th>21</th>\n",
       "      <td>21,Dodge Challenger,15.5,8,318.0,150.0,2.76,3....</td>\n",
       "    </tr>\n",
       "    <tr>\n",
       "      <th>22</th>\n",
       "      <td>22,AMC Javelin,15.2,8,304.0,150.0,3.15,3.435,1...</td>\n",
       "    </tr>\n",
       "    <tr>\n",
       "      <th>23</th>\n",
       "      <td>23,Camaro Z28,13.3,8,350.0,245.0,3.73,3.84,15....</td>\n",
       "    </tr>\n",
       "    <tr>\n",
       "      <th>24</th>\n",
       "      <td>24,Pontiac Firebird,19.2,8,400.0,175.0,3.08,3....</td>\n",
       "    </tr>\n",
       "    <tr>\n",
       "      <th>25</th>\n",
       "      <td>25,Fiat X1-9,27.3,4,79.0,66.0,4.08,1.935,18.9,...</td>\n",
       "    </tr>\n",
       "    <tr>\n",
       "      <th>26</th>\n",
       "      <td>26,Porsche 914-2,26.0,4,120.3,91.0,4.43,2.14,1...</td>\n",
       "    </tr>\n",
       "    <tr>\n",
       "      <th>27</th>\n",
       "      <td>27,Lotus Europa,30.4,4,95.1,113.0,3.77,1.51300...</td>\n",
       "    </tr>\n",
       "    <tr>\n",
       "      <th>28</th>\n",
       "      <td>28,Ford Pantera L,15.8,8,351.0,264.0,4.22,3.17...</td>\n",
       "    </tr>\n",
       "    <tr>\n",
       "      <th>29</th>\n",
       "      <td>29,Ferrari Dino,19.7,6,145.0,175.0,3.62,2.77,1...</td>\n",
       "    </tr>\n",
       "    <tr>\n",
       "      <th>3</th>\n",
       "      <td>3,Hornet 4 Drive,21.4,6,258.0,,3.08,3.215,19.4...</td>\n",
       "    </tr>\n",
       "    <tr>\n",
       "      <th>30</th>\n",
       "      <td>30,Maserati Bora,15.0,8,301.0,335.0,3.54,3.57,...</td>\n",
       "    </tr>\n",
       "    <tr>\n",
       "      <th>31</th>\n",
       "      <td>31,Volvo 142E,21.4,4,121.0,109.0,4.11,2.78,18....</td>\n",
       "    </tr>\n",
       "    <tr>\n",
       "      <th>4</th>\n",
       "      <td>4,Hornet Sportabout,18.7,8,360.0,175.0,3.15,3....</td>\n",
       "    </tr>\n",
       "    <tr>\n",
       "      <th>5</th>\n",
       "      <td>5,Valiant,18.1,6,225.0,105.0,2.76,3.46,,1.0,0....</td>\n",
       "    </tr>\n",
       "    <tr>\n",
       "      <th>6</th>\n",
       "      <td>6,Duster 360,14.3,8,360.0,245.0,,3.57,15.84,0....</td>\n",
       "    </tr>\n",
       "    <tr>\n",
       "      <th>7</th>\n",
       "      <td>7,Merc 240D,24.4,4,146.7,62.0,3.69,3.19,20.0,,...</td>\n",
       "    </tr>\n",
       "    <tr>\n",
       "      <th>8</th>\n",
       "      <td>8,Merc 230,22.8,4,140.8,95.0,3.92,3.15,,1.0,0....</td>\n",
       "    </tr>\n",
       "    <tr>\n",
       "      <th>9</th>\n",
       "      <td>9,Merc 280,19.2,6,167.6,123.0,3.92,3.44,18.3,1...</td>\n",
       "    </tr>\n",
       "  </tbody>\n",
       "</table>\n",
       "</div>"
      ],
      "text/plain": [
       "   ,vichle_names,mpg,cyl,disp,hp,drat,wt,qsec,v_Shape,am,gear,carb\n",
       "0   0,Mazda RX4,21.0,6,160.0,110.0,3.9,2.62,16.46,...             \n",
       "1   1,Mazda RX4 Wag,21.0,6,160.0,110.0,3.9,2.875,1...             \n",
       "10  10,Merc 280C,,6,167.6,123.0,3.92,3.44,18.9,1.0...             \n",
       "11  11,Merc 450SE,16.4,8,275.8,180.0,3.07,4.07,17....             \n",
       "12  12,Merc 450SL,17.3,8,275.8,180.0,3.07,3.73,,0....             \n",
       "13  13,Merc 450SLC,15.2,8,275.8,180.0,3.07,3.78,18...             \n",
       "14  14,Cadillac Fleetwood,10.4,8,472.0,205.0,2.93,...             \n",
       "15  15,Lincoln Continental,10.4,8,460.0,215.0,3.0,...             \n",
       "16  16,Chrysler Imperial,14.7,8,440.0,230.0,3.23,5...             \n",
       "17  17,Fiat 128,32.4,4,78.7,66.0,4.08,2.2,19.47,1....             \n",
       "18  18,Honda Civic,30.4,4,75.7,52.0,4.93,1.615,18....             \n",
       "19  19,Toyota Corolla,33.9,4,71.1,65.0,4.22,1.835,...             \n",
       "2   2,Datsun 710,,4,108.0,93.0,3.85,2.32,18.61,1.0...             \n",
       "20  20,Toyota Corona,21.5,4,120.1,97.0,3.7,2.465,2...             \n",
       "21  21,Dodge Challenger,15.5,8,318.0,150.0,2.76,3....             \n",
       "22  22,AMC Javelin,15.2,8,304.0,150.0,3.15,3.435,1...             \n",
       "23  23,Camaro Z28,13.3,8,350.0,245.0,3.73,3.84,15....             \n",
       "24  24,Pontiac Firebird,19.2,8,400.0,175.0,3.08,3....             \n",
       "25  25,Fiat X1-9,27.3,4,79.0,66.0,4.08,1.935,18.9,...             \n",
       "26  26,Porsche 914-2,26.0,4,120.3,91.0,4.43,2.14,1...             \n",
       "27  27,Lotus Europa,30.4,4,95.1,113.0,3.77,1.51300...             \n",
       "28  28,Ford Pantera L,15.8,8,351.0,264.0,4.22,3.17...             \n",
       "29  29,Ferrari Dino,19.7,6,145.0,175.0,3.62,2.77,1...             \n",
       "3   3,Hornet 4 Drive,21.4,6,258.0,,3.08,3.215,19.4...             \n",
       "30  30,Maserati Bora,15.0,8,301.0,335.0,3.54,3.57,...             \n",
       "31  31,Volvo 142E,21.4,4,121.0,109.0,4.11,2.78,18....             \n",
       "4   4,Hornet Sportabout,18.7,8,360.0,175.0,3.15,3....             \n",
       "5   5,Valiant,18.1,6,225.0,105.0,2.76,3.46,,1.0,0....             \n",
       "6   6,Duster 360,14.3,8,360.0,245.0,,3.57,15.84,0....             \n",
       "7   7,Merc 240D,24.4,4,146.7,62.0,3.69,3.19,20.0,,...             \n",
       "8   8,Merc 230,22.8,4,140.8,95.0,3.92,3.15,,1.0,0....             \n",
       "9   9,Merc 280,19.2,6,167.6,123.0,3.92,3.44,18.3,1...             "
      ]
     },
     "execution_count": 30,
     "metadata": {},
     "output_type": "execute_result"
    }
   ],
   "source": [
    "json_df"
   ]
  },
  {
   "cell_type": "markdown",
   "id": "ed551cae-3f90-43c0-9aeb-b8314ec24bdc",
   "metadata": {},
   "source": [
    "# Generate Random Data (Regression)"
   ]
  },
  {
   "cell_type": "code",
   "execution_count": 32,
   "id": "1dfc3a63-564b-45e8-96a2-c50f07dbe013",
   "metadata": {},
   "outputs": [],
   "source": [
    "import numpy as np"
   ]
  },
  {
   "cell_type": "code",
   "execution_count": 38,
   "id": "417f92e5-0bb7-45fb-b38c-d27e45b181b2",
   "metadata": {},
   "outputs": [],
   "source": [
    "from sklearn.datasets import make_regression\n",
    "features, target, coefficients = make_regression(n_samples = 100, \n",
    "                                                 n_features = 3, \n",
    "                                                 n_informative = 3, \n",
    "                                                 n_targets = 1, \n",
    "                                                 noise = 0.0, \n",
    "                                                 coef = True,\n",
    "                                                 random_state = 1)"
   ]
  },
  {
   "cell_type": "code",
   "execution_count": 41,
   "id": "9b5cf5be-56d9-4b98-aa24-3bb73ae7ba1e",
   "metadata": {},
   "outputs": [
    {
     "data": {
      "text/plain": [
       "array([[ 1.29322588, -0.61736206, -0.11044703],\n",
       "       [-2.793085  ,  0.36633201,  1.93752881],\n",
       "       [ 0.80186103, -0.18656977,  0.0465673 ]])"
      ]
     },
     "execution_count": 41,
     "metadata": {},
     "output_type": "execute_result"
    }
   ],
   "source": [
    "# Features matrix\n",
    "features[:3]"
   ]
  },
  {
   "cell_type": "code",
   "execution_count": 42,
   "id": "c9edbb7f-dd04-4c9c-b580-713267647950",
   "metadata": {},
   "outputs": [
    {
     "data": {
      "text/plain": [
       "array([-10.37865986,  25.5124503 ,  19.67705609])"
      ]
     },
     "execution_count": 42,
     "metadata": {},
     "output_type": "execute_result"
    }
   ],
   "source": [
    "# Target vector\n",
    "target[:3]"
   ]
  },
  {
   "cell_type": "code",
   "execution_count": 43,
   "id": "3262d89a-785f-4390-a768-411a3743f2a0",
   "metadata": {},
   "outputs": [
    {
     "data": {
      "text/plain": [
       "array([44.19042807, 98.97517077, 58.15774073])"
      ]
     },
     "execution_count": 43,
     "metadata": {},
     "output_type": "execute_result"
    }
   ],
   "source": [
    "coefficients"
   ]
  },
  {
   "cell_type": "markdown",
   "id": "c5bf1e03-eccc-4f7c-9a2d-6ee183f7630d",
   "metadata": {},
   "source": [
    "# Generate Random Data (Classification)"
   ]
  },
  {
   "cell_type": "code",
   "execution_count": 44,
   "id": "bab46dc0-d1a6-4c4b-872d-8195f8754c96",
   "metadata": {},
   "outputs": [],
   "source": [
    "from sklearn.datasets import make_classification\n",
    "features, target = make_classification(n_samples = 100,\n",
    "                                       n_features = 3, \n",
    "                                       n_informative = 3, \n",
    "                                       n_redundant = 0, \n",
    "                                       n_classes = 2,\n",
    "                                       weights = [.25, .75],\n",
    "                                       random_state = 1)"
   ]
  },
  {
   "cell_type": "code",
   "execution_count": 45,
   "id": "39731185-47b0-4643-ba00-8fb1d2b60c78",
   "metadata": {},
   "outputs": [
    {
     "data": {
      "text/plain": [
       "array([[ 1.06354768, -1.42632219,  1.02163151],\n",
       "       [ 0.23156977,  1.49535261,  0.33251578],\n",
       "       [ 0.15972951,  0.83533515, -0.40869554]])"
      ]
     },
     "execution_count": 45,
     "metadata": {},
     "output_type": "execute_result"
    }
   ],
   "source": [
    "# Features matrix\n",
    "features[:3]"
   ]
  },
  {
   "cell_type": "code",
   "execution_count": 46,
   "id": "922b2631-5215-4e0e-9168-77761c4245ab",
   "metadata": {},
   "outputs": [
    {
     "data": {
      "text/plain": [
       "array([1, 0, 0])"
      ]
     },
     "execution_count": 46,
     "metadata": {},
     "output_type": "execute_result"
    }
   ],
   "source": [
    "# Target vector\n",
    "target[:3]"
   ]
  },
  {
   "cell_type": "code",
   "execution_count": null,
   "id": "3ba800f4-125c-4e66-9eee-4a256bbcf86d",
   "metadata": {},
   "outputs": [],
   "source": []
  }
 ],
 "metadata": {
  "kernelspec": {
   "display_name": "Python 3",
   "language": "python",
   "name": "python3"
  },
  "language_info": {
   "codemirror_mode": {
    "name": "ipython",
    "version": 3
   },
   "file_extension": ".py",
   "mimetype": "text/x-python",
   "name": "python",
   "nbconvert_exporter": "python",
   "pygments_lexer": "ipython3",
   "version": "3.8.10"
  }
 },
 "nbformat": 4,
 "nbformat_minor": 5
}
