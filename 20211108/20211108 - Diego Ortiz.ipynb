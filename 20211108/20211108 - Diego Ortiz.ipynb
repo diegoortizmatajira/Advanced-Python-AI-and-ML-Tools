{
 "cells": [
  {
   "cell_type": "markdown",
   "id": "4f14287a-d17b-43b2-9868-fd1ce9618fad",
   "metadata": {},
   "source": [
    "# Class Exercise\n",
    "Write a Python program to compute the sum of the even-valued terms in the fibonacci sequence whose values do not exceed one million"
   ]
  },
  {
   "cell_type": "code",
   "execution_count": 13,
   "id": "60f5a125-98dc-4be3-b426-4539dac8ce66",
   "metadata": {},
   "outputs": [],
   "source": [
    "fib_sum = 0\n",
    "def fibonacci_sum(a,b):\n",
    "    global fib_sum\n",
    "    next_fib = a + b\n",
    "    if (next_fib > 1000000):\n",
    "        print(f'The sum of the even-valued terms is: {fib_sum}')\n",
    "        return\n",
    "    if (next_fib % 2 == 0):\n",
    "        print(f'fibonnaci term: {next_fib} (added)')\n",
    "        fib_sum = fib_sum + next_fib\n",
    "    else:\n",
    "        print(f'fibonnaci term: {next_fib} (not added)')\n",
    "    fibonacci_sum(b, next_fib)"
   ]
  },
  {
   "cell_type": "code",
   "execution_count": 14,
   "id": "f84f76d1-f1ff-4de2-aa5c-16965f9bac39",
   "metadata": {},
   "outputs": [
    {
     "name": "stdout",
     "output_type": "stream",
     "text": [
      "fibonnaci term: 1 (not added)\n",
      "fibonnaci term: 2 (added)\n",
      "fibonnaci term: 3 (not added)\n",
      "fibonnaci term: 5 (not added)\n",
      "fibonnaci term: 8 (added)\n",
      "fibonnaci term: 13 (not added)\n",
      "fibonnaci term: 21 (not added)\n",
      "fibonnaci term: 34 (added)\n",
      "fibonnaci term: 55 (not added)\n",
      "fibonnaci term: 89 (not added)\n",
      "fibonnaci term: 144 (added)\n",
      "fibonnaci term: 233 (not added)\n",
      "fibonnaci term: 377 (not added)\n",
      "fibonnaci term: 610 (added)\n",
      "fibonnaci term: 987 (not added)\n",
      "fibonnaci term: 1597 (not added)\n",
      "fibonnaci term: 2584 (added)\n",
      "fibonnaci term: 4181 (not added)\n",
      "fibonnaci term: 6765 (not added)\n",
      "fibonnaci term: 10946 (added)\n",
      "fibonnaci term: 17711 (not added)\n",
      "fibonnaci term: 28657 (not added)\n",
      "fibonnaci term: 46368 (added)\n",
      "fibonnaci term: 75025 (not added)\n",
      "fibonnaci term: 121393 (not added)\n",
      "fibonnaci term: 196418 (added)\n",
      "fibonnaci term: 317811 (not added)\n",
      "fibonnaci term: 514229 (not added)\n",
      "fibonnaci term: 832040 (added)\n",
      "The sum of the even-valued terms is: 1089154\n"
     ]
    }
   ],
   "source": [
    "fibonacci_sum(0,1)"
   ]
  },
  {
   "cell_type": "code",
   "execution_count": null,
   "id": "29afd305-88db-4f01-9792-3df72bfbd90e",
   "metadata": {},
   "outputs": [],
   "source": []
  }
 ],
 "metadata": {
  "kernelspec": {
   "display_name": "Python 3",
   "language": "python",
   "name": "python3"
  },
  "language_info": {
   "codemirror_mode": {
    "name": "ipython",
    "version": 3
   },
   "file_extension": ".py",
   "mimetype": "text/x-python",
   "name": "python",
   "nbconvert_exporter": "python",
   "pygments_lexer": "ipython3",
   "version": "3.8.8"
  }
 },
 "nbformat": 4,
 "nbformat_minor": 5
}
