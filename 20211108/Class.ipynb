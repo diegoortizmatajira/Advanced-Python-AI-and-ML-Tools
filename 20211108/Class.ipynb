{
 "cells": [
  {
   "cell_type": "markdown",
   "id": "df9aa404-8663-4cb0-882c-dcc8ca71122e",
   "metadata": {},
   "source": [
    "# Imputation for missing values"
   ]
  },
  {
   "cell_type": "markdown",
   "id": "515a62eb-03b6-4a6b-8249-5a781c7fd25a",
   "metadata": {},
   "source": [
    "## KNN Imputer"
   ]
  },
  {
   "cell_type": "code",
   "execution_count": 2,
   "id": "9d9b7fd8-cb3a-44ba-97b5-7d9d9f87e39b",
   "metadata": {},
   "outputs": [],
   "source": [
    "import numpy as np\n",
    "from sklearn.impute import KNNImputer"
   ]
  },
  {
   "cell_type": "code",
   "execution_count": 3,
   "id": "92c63e49-43b0-470a-9f45-7a3ca098c0c8",
   "metadata": {},
   "outputs": [
    {
     "data": {
      "text/plain": [
       "array([[1. , 2. , 4. ],\n",
       "       [3. , 4. , 3. ],\n",
       "       [5.5, 6. , 5. ],\n",
       "       [8. , 8. , 7. ]])"
      ]
     },
     "execution_count": 3,
     "metadata": {},
     "output_type": "execute_result"
    }
   ],
   "source": [
    "X = [[1,2,np.nan],[3,4,3],[np.nan,6,5],[8,8,7]]\n",
    "imputer = KNNImputer(n_neighbors = 2)\n",
    "imputer.fit_transform(X)"
   ]
  },
  {
   "cell_type": "markdown",
   "id": "1f2fd892-c2f3-4f53-b2ba-99fed5574764",
   "metadata": {},
   "source": [
    "## Simple Imputer"
   ]
  },
  {
   "cell_type": "code",
   "execution_count": 10,
   "id": "30ffec46-09df-40c6-866b-af1ffd7e394c",
   "metadata": {},
   "outputs": [],
   "source": [
    "import numpy as np\n",
    "from sklearn.impute import SimpleImputer"
   ]
  },
  {
   "cell_type": "code",
   "execution_count": 12,
   "id": "526838a3-e96c-4f57-85ae-8c15e4d4c572",
   "metadata": {},
   "outputs": [
    {
     "name": "stdout",
     "output_type": "stream",
     "text": [
      "[[ 7.   2.   3. ]\n",
      " [ 4.   3.5  6. ]\n",
      " [10.   3.5  9. ]]\n"
     ]
    }
   ],
   "source": [
    "imp_mean = SimpleImputer(missing_values = np.nan, strategy = 'mean')\n",
    "imp_mean.fit([[7,2,3],[4,np.nan,6],[10,5,9]])\n",
    "X = [[np.nan, 2, 3],[4, np.nan, 6], [10, np.nan, 9]]\n",
    "print(imp_mean.transform(X))"
   ]
  },
  {
   "cell_type": "code",
   "execution_count": 13,
   "id": "72fac3f4-8915-4b5f-bbe1-41193537d686",
   "metadata": {},
   "outputs": [
    {
     "data": {
      "text/plain": [
       "array([[ 7.,  2.,  3.],\n",
       "       [ 4.,  2.,  6.],\n",
       "       [10.,  2.,  9.]])"
      ]
     },
     "execution_count": 13,
     "metadata": {},
     "output_type": "execute_result"
    }
   ],
   "source": [
    "imp_mean.fit_transform(X)"
   ]
  },
  {
   "cell_type": "markdown",
   "id": "659eecc7-83f2-41f7-9298-3d62906e10f0",
   "metadata": {},
   "source": [
    "## Nominal Variables"
   ]
  },
  {
   "cell_type": "code",
   "execution_count": 16,
   "id": "33de016c-790b-4d24-86e5-95e50cde17e3",
   "metadata": {},
   "outputs": [
    {
     "data": {
      "text/plain": [
       "array([[0, 0, 1],\n",
       "       [0, 1, 0],\n",
       "       [0, 1, 0],\n",
       "       [0, 0, 1],\n",
       "       [1, 0, 0]])"
      ]
     },
     "execution_count": 16,
     "metadata": {},
     "output_type": "execute_result"
    }
   ],
   "source": [
    "from sklearn import preprocessing\n",
    "lb = preprocessing.LabelBinarizer()\n",
    "lb.fit_transform(['yes', 'no', 'no', 'yes', 'maybe'])"
   ]
  },
  {
   "cell_type": "code",
   "execution_count": 17,
   "id": "5f5891d3-6f61-4649-b40f-aa188f9d2b1a",
   "metadata": {},
   "outputs": [
    {
     "data": {
      "text/plain": [
       "array(['maybe', 'no', 'yes'], dtype='<U5')"
      ]
     },
     "execution_count": 17,
     "metadata": {},
     "output_type": "execute_result"
    }
   ],
   "source": [
    "lb.classes_"
   ]
  },
  {
   "cell_type": "markdown",
   "id": "2522f453-f1cf-4bdf-b33a-161675305a21",
   "metadata": {},
   "source": [
    "## Pandas to one-hot encode"
   ]
  },
  {
   "cell_type": "code",
   "execution_count": 19,
   "id": "c06e223f-d4b8-42d1-bdaa-0cabb80e8bf4",
   "metadata": {},
   "outputs": [
    {
     "data": {
      "text/html": [
       "<div>\n",
       "<style scoped>\n",
       "    .dataframe tbody tr th:only-of-type {\n",
       "        vertical-align: middle;\n",
       "    }\n",
       "\n",
       "    .dataframe tbody tr th {\n",
       "        vertical-align: top;\n",
       "    }\n",
       "\n",
       "    .dataframe thead th {\n",
       "        text-align: right;\n",
       "    }\n",
       "</style>\n",
       "<table border=\"1\" class=\"dataframe\">\n",
       "  <thead>\n",
       "    <tr style=\"text-align: right;\">\n",
       "      <th></th>\n",
       "      <th>X</th>\n",
       "      <th>Y</th>\n",
       "      <th>Z</th>\n",
       "    </tr>\n",
       "  </thead>\n",
       "  <tbody>\n",
       "    <tr>\n",
       "      <th>0</th>\n",
       "      <td>a</td>\n",
       "      <td>B</td>\n",
       "      <td>1</td>\n",
       "    </tr>\n",
       "    <tr>\n",
       "      <th>1</th>\n",
       "      <td>b</td>\n",
       "      <td>A</td>\n",
       "      <td>2</td>\n",
       "    </tr>\n",
       "    <tr>\n",
       "      <th>2</th>\n",
       "      <td>a</td>\n",
       "      <td>C</td>\n",
       "      <td>3</td>\n",
       "    </tr>\n",
       "  </tbody>\n",
       "</table>\n",
       "</div>"
      ],
      "text/plain": [
       "   X  Y  Z\n",
       "0  a  B  1\n",
       "1  b  A  2\n",
       "2  a  C  3"
      ]
     },
     "execution_count": 19,
     "metadata": {},
     "output_type": "execute_result"
    }
   ],
   "source": [
    "import pandas as pd\n",
    "df = pd.DataFrame({\n",
    "    'X': ['a', 'b', 'a'],\n",
    "    'Y': ['B', 'A', 'C'],\n",
    "    'Z': [1, 2, 3]\n",
    "})\n",
    "df"
   ]
  },
  {
   "cell_type": "code",
   "execution_count": 20,
   "id": "430defa4-39f2-40ba-8fd4-0dd65d86a116",
   "metadata": {},
   "outputs": [
    {
     "data": {
      "text/html": [
       "<div>\n",
       "<style scoped>\n",
       "    .dataframe tbody tr th:only-of-type {\n",
       "        vertical-align: middle;\n",
       "    }\n",
       "\n",
       "    .dataframe tbody tr th {\n",
       "        vertical-align: top;\n",
       "    }\n",
       "\n",
       "    .dataframe thead th {\n",
       "        text-align: right;\n",
       "    }\n",
       "</style>\n",
       "<table border=\"1\" class=\"dataframe\">\n",
       "  <thead>\n",
       "    <tr style=\"text-align: right;\">\n",
       "      <th></th>\n",
       "      <th>Z</th>\n",
       "      <th>colX_a</th>\n",
       "      <th>colX_b</th>\n",
       "      <th>colYO_A</th>\n",
       "      <th>colYO_B</th>\n",
       "      <th>colYO_C</th>\n",
       "    </tr>\n",
       "  </thead>\n",
       "  <tbody>\n",
       "    <tr>\n",
       "      <th>0</th>\n",
       "      <td>1</td>\n",
       "      <td>1</td>\n",
       "      <td>0</td>\n",
       "      <td>0</td>\n",
       "      <td>1</td>\n",
       "      <td>0</td>\n",
       "    </tr>\n",
       "    <tr>\n",
       "      <th>1</th>\n",
       "      <td>2</td>\n",
       "      <td>0</td>\n",
       "      <td>1</td>\n",
       "      <td>1</td>\n",
       "      <td>0</td>\n",
       "      <td>0</td>\n",
       "    </tr>\n",
       "    <tr>\n",
       "      <th>2</th>\n",
       "      <td>3</td>\n",
       "      <td>1</td>\n",
       "      <td>0</td>\n",
       "      <td>0</td>\n",
       "      <td>0</td>\n",
       "      <td>1</td>\n",
       "    </tr>\n",
       "  </tbody>\n",
       "</table>\n",
       "</div>"
      ],
      "text/plain": [
       "   Z  colX_a  colX_b  colYO_A  colYO_B  colYO_C\n",
       "0  1       1       0        0        1        0\n",
       "1  2       0       1        1        0        0\n",
       "2  3       1       0        0        0        1"
      ]
     },
     "execution_count": 20,
     "metadata": {},
     "output_type": "execute_result"
    }
   ],
   "source": [
    "pd.get_dummies(df, prefix=['colX', 'colYO'])"
   ]
  },
  {
   "cell_type": "markdown",
   "id": "f83e482f-d4ab-475a-a926-b4e07d41be73",
   "metadata": {},
   "source": [
    "## Ordinal Variables"
   ]
  },
  {
   "cell_type": "code",
   "execution_count": 22,
   "id": "a0134127-75b7-41bb-b0b5-1773fbf32da3",
   "metadata": {},
   "outputs": [
    {
     "data": {
      "text/plain": [
       "0    1\n",
       "1    1\n",
       "2    2\n",
       "3    2\n",
       "4    4\n",
       "5    3\n",
       "Name: Score, dtype: int64"
      ]
     },
     "execution_count": 22,
     "metadata": {},
     "output_type": "execute_result"
    }
   ],
   "source": [
    "dataframe = pd.DataFrame({\n",
    "    'Score': ['Low', 'Low', 'Medium', 'Medium', 'High', 'Barely more than medium']\n",
    "})\n",
    "scale_mapper = {\n",
    "    'Low': 1,\n",
    "    'Medium': 2,\n",
    "    'Barely more than medium': 3,\n",
    "    'High': 4\n",
    "}\n",
    "dataframe['Score'].replace(scale_mapper)"
   ]
  },
  {
   "cell_type": "markdown",
   "id": "38ff8955-cc00-4235-9f5a-1ee685ebe081",
   "metadata": {},
   "source": [
    "## Text data"
   ]
  },
  {
   "cell_type": "code",
   "execution_count": 23,
   "id": "554003e6-8bcf-4d2a-8410-d26079a457c5",
   "metadata": {},
   "outputs": [],
   "source": [
    "text_data = [\n",
    "    '   Interrobang. By Aishwarya Henriette     ',\n",
    "    'Parking and going. by Karl Gautiere',\n",
    "    '   Today is the night. By Jarek Prakash'\n",
    "]"
   ]
  },
  {
   "cell_type": "code",
   "execution_count": 26,
   "id": "73784cdf-8ef8-48cf-b289-2c1f26966d2b",
   "metadata": {},
   "outputs": [
    {
     "data": {
      "text/plain": [
       "['Interrobang. By Aishwarya Henriette',\n",
       " 'Parking and going. by Karl Gautiere',\n",
       " 'Today is the night. By Jarek Prakash']"
      ]
     },
     "execution_count": 26,
     "metadata": {},
     "output_type": "execute_result"
    }
   ],
   "source": [
    "strip_whitespace = [string.strip() for string in text_data]\n",
    "strip_whitespace"
   ]
  },
  {
   "cell_type": "code",
   "execution_count": 27,
   "id": "9a6949a1-3b9b-4adb-a2e9-4e1396f9fc35",
   "metadata": {},
   "outputs": [
    {
     "data": {
      "text/plain": [
       "['Interrobang By Aishwarya Henriette',\n",
       " 'Parking and going by Karl Gautiere',\n",
       " 'Today is the night By Jarek Prakash']"
      ]
     },
     "execution_count": 27,
     "metadata": {},
     "output_type": "execute_result"
    }
   ],
   "source": [
    "remove_periods = [string.replace('.', '') for string in strip_whitespace]\n",
    "remove_periods"
   ]
  },
  {
   "cell_type": "code",
   "execution_count": 28,
   "id": "2c3bfd49-2a49-4331-95c3-9e6694d65094",
   "metadata": {},
   "outputs": [],
   "source": [
    "def capitalizer(string: str) -> str:\n",
    "    return string.upper()"
   ]
  },
  {
   "cell_type": "code",
   "execution_count": 30,
   "id": "ba23d9f2-690e-4ceb-b1e1-f150de018b2d",
   "metadata": {},
   "outputs": [
    {
     "data": {
      "text/plain": [
       "['INTERROBANG BY AISHWARYA HENRIETTE',\n",
       " 'PARKING AND GOING BY KARL GAUTIERE',\n",
       " 'TODAY IS THE NIGHT BY JAREK PRAKASH']"
      ]
     },
     "execution_count": 30,
     "metadata": {},
     "output_type": "execute_result"
    }
   ],
   "source": [
    "capitalized = [capitalizer(string) for string in remove_periods]\n",
    "capitalized"
   ]
  },
  {
   "cell_type": "markdown",
   "id": "0393983a-e1f4-4eae-880d-1a6dd762b3d1",
   "metadata": {},
   "source": [
    "## Regular expressions"
   ]
  },
  {
   "cell_type": "code",
   "execution_count": 35,
   "id": "1392a6e9-f34a-4f4c-995d-1a41e8a2ff81",
   "metadata": {},
   "outputs": [],
   "source": [
    "import re"
   ]
  },
  {
   "cell_type": "code",
   "execution_count": 36,
   "id": "a00e77a3-c12f-4813-b781-3b8dcdf6f3ed",
   "metadata": {},
   "outputs": [],
   "source": [
    "def replace_letters_with_x(string: str)-> str:\n",
    "    return re.sub(r\"[a-zA-Z]\", \"X\", string)"
   ]
  },
  {
   "cell_type": "code",
   "execution_count": 37,
   "id": "3d556146-a811-43d5-8c2d-65a8294127a2",
   "metadata": {},
   "outputs": [
    {
     "data": {
      "text/plain": [
       "['XXXXXXXXXXX XX XXXXXXXXX XXXXXXXXX',\n",
       " 'XXXXXXX XXX XXXXX XX XXXX XXXXXXXX',\n",
       " 'XXXXX XX XXX XXXXX XX XXXXX XXXXXXX']"
      ]
     },
     "execution_count": 37,
     "metadata": {},
     "output_type": "execute_result"
    }
   ],
   "source": [
    "[replace_letters_with_x(string) for string in capitalized]"
   ]
  },
  {
   "cell_type": "code",
   "execution_count": 38,
   "id": "68898ec4-6277-4c6c-bbc5-6a74f364e117",
   "metadata": {},
   "outputs": [
    {
     "data": {
      "text/plain": [
       "'Hi this is just and example'"
      ]
     },
     "execution_count": 38,
     "metadata": {},
     "output_type": "execute_result"
    }
   ],
   "source": [
    "text = 'Hi! this is just and example'\n",
    "re.sub(r'[^\\w\\s]','', text)"
   ]
  },
  {
   "cell_type": "markdown",
   "id": "1a41fa5f-f789-4513-8f34-c6f7dba90172",
   "metadata": {},
   "source": [
    "## Beautiful soup"
   ]
  },
  {
   "cell_type": "code",
   "execution_count": null,
   "id": "640e2fa3-b3ff-4de5-8e26-4af84fd0e738",
   "metadata": {},
   "outputs": [],
   "source": []
  },
  {
   "cell_type": "markdown",
   "id": "49c50ac7-5924-4d4e-a1c1-74a0a97be85c",
   "metadata": {},
   "source": [
    "# Stop words"
   ]
  },
  {
   "cell_type": "code",
   "execution_count": 39,
   "id": "8e85e5dc-5513-40f0-994a-d2b230a35016",
   "metadata": {},
   "outputs": [],
   "source": [
    "from nltk.corpus import stopwords\n",
    "stopwords = stopwords.words('english')"
   ]
  },
  {
   "cell_type": "code",
   "execution_count": 40,
   "id": "850af068-5d20-465f-ae7b-3283e0dae3be",
   "metadata": {},
   "outputs": [
    {
     "data": {
      "text/plain": [
       "['i', 'me', 'my', 'myself', 'we', 'our', 'ours', 'ourselves', 'you', \"you're\"]"
      ]
     },
     "execution_count": 40,
     "metadata": {},
     "output_type": "execute_result"
    }
   ],
   "source": [
    "stopwords[:10]"
   ]
  },
  {
   "cell_type": "code",
   "execution_count": 57,
   "id": "5c4d14e5-5d95-4aa8-8214-6e397890ed32",
   "metadata": {},
   "outputs": [],
   "source": [
    "text = 'A sentence is a textual unit consisting of words that are grammatically linked.'"
   ]
  },
  {
   "cell_type": "code",
   "execution_count": 58,
   "id": "e569308a-adb7-4632-968d-316f582efa22",
   "metadata": {},
   "outputs": [
    {
     "data": {
      "text/plain": [
       "['a',\n",
       " 'sentence',\n",
       " 'is',\n",
       " 'a',\n",
       " 'textual',\n",
       " 'unit',\n",
       " 'consisting',\n",
       " 'of',\n",
       " 'words',\n",
       " 'that',\n",
       " 'are',\n",
       " 'grammatically',\n",
       " 'linked',\n",
       " '.']"
      ]
     },
     "execution_count": 58,
     "metadata": {},
     "output_type": "execute_result"
    }
   ],
   "source": [
    "from nltk.tokenize import word_tokenize\n",
    "tokenized_word = word_tokenize(text.lower())\n",
    "tokenized_word"
   ]
  },
  {
   "cell_type": "code",
   "execution_count": 59,
   "id": "cc713ec2-102f-46d9-a698-7ba48ec18091",
   "metadata": {},
   "outputs": [
    {
     "data": {
      "text/plain": [
       "['sentence',\n",
       " 'textual',\n",
       " 'unit',\n",
       " 'consisting',\n",
       " 'words',\n",
       " 'grammatically',\n",
       " 'linked',\n",
       " '.']"
      ]
     },
     "execution_count": 59,
     "metadata": {},
     "output_type": "execute_result"
    }
   ],
   "source": [
    "filtered_tokens = [word for word in tokenized_word if word not in stopwords]\n",
    "filtered_tokens"
   ]
  },
  {
   "cell_type": "markdown",
   "id": "650b1799-4d47-4aec-b4e5-8c27db9c4e30",
   "metadata": {},
   "source": [
    "### Sentence splitting"
   ]
  },
  {
   "cell_type": "code",
   "execution_count": 60,
   "id": "3df49a01-8573-441b-af82-b3554c25be31",
   "metadata": {},
   "outputs": [
    {
     "data": {
      "text/plain": [
       "[\"Let's make this our sample paragraph.\",\n",
       " 'It even knows the the period in Mr. Jones is not the end.',\n",
       " 'Try it out!']"
      ]
     },
     "execution_count": 60,
     "metadata": {},
     "output_type": "execute_result"
    }
   ],
   "source": [
    "samplestring = \"Let's make this our sample paragraph. It even knows the the period in Mr. Jones is not the end. Try it out!\"\n",
    "\n",
    "from nltk.tokenize import sent_tokenize\n",
    "tokenized_sent = sent_tokenize(samplestring)\n",
    "tokenized_sent"
   ]
  },
  {
   "cell_type": "markdown",
   "id": "d06b4a71-5f17-4424-890c-bd88ffc257c3",
   "metadata": {},
   "source": [
    "### Word tokenizing"
   ]
  },
  {
   "cell_type": "code",
   "execution_count": 61,
   "id": "a03d4365-1df8-4790-bb50-0cbd19492a6d",
   "metadata": {},
   "outputs": [
    {
     "data": {
      "text/plain": [
       "['Hey',\n",
       " 'everyone!',\n",
       " 'The',\n",
       " 'party',\n",
       " 'starts',\n",
       " 'in',\n",
       " '10mins.',\n",
       " 'Be',\n",
       " 'there',\n",
       " 'ASAP!']"
      ]
     },
     "execution_count": 61,
     "metadata": {},
     "output_type": "execute_result"
    }
   ],
   "source": [
    "msg = 'Hey everyone! The party starts in 10mins. Be there ASAP!'\n",
    "msg.split()"
   ]
  },
  {
   "cell_type": "code",
   "execution_count": 63,
   "id": "9c624501-6883-4e60-8be4-3fcf5095c767",
   "metadata": {},
   "outputs": [
    {
     "data": {
      "text/plain": [
       "['Hey',\n",
       " 'everyone',\n",
       " '!',\n",
       " 'The',\n",
       " 'party',\n",
       " 'starts',\n",
       " 'in',\n",
       " '10mins',\n",
       " '.',\n",
       " 'Be',\n",
       " 'there',\n",
       " 'ASAP',\n",
       " '!']"
      ]
     },
     "execution_count": 63,
     "metadata": {},
     "output_type": "execute_result"
    }
   ],
   "source": [
    "from nltk.tokenize import word_tokenize\n",
    "tokenized_word = word_tokenize(msg)\n",
    "tokenized_word"
   ]
  },
  {
   "cell_type": "code",
   "execution_count": null,
   "id": "8628bf82-8b3d-4559-8e9f-368fa3c3af46",
   "metadata": {},
   "outputs": [],
   "source": []
  }
 ],
 "metadata": {
  "kernelspec": {
   "display_name": "Python 3",
   "language": "python",
   "name": "python3"
  },
  "language_info": {
   "codemirror_mode": {
    "name": "ipython",
    "version": 3
   },
   "file_extension": ".py",
   "mimetype": "text/x-python",
   "name": "python",
   "nbconvert_exporter": "python",
   "pygments_lexer": "ipython3",
   "version": "3.8.8"
  }
 },
 "nbformat": 4,
 "nbformat_minor": 5
}
